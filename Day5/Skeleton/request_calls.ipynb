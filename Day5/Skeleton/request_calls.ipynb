{
 "cells": [
  {
   "cell_type": "code",
   "execution_count": 39,
   "id": "38efd39d",
   "metadata": {},
   "outputs": [],
   "source": [
    "import requests"
   ]
  },
  {
   "cell_type": "markdown",
   "id": "4751cdcc",
   "metadata": {},
   "source": [
    "For ex.01"
   ]
  },
  {
   "cell_type": "code",
   "execution_count": 88,
   "id": "9ffbc030",
   "metadata": {},
   "outputs": [
    {
     "data": {
      "text/plain": [
       "{'item_id': 1234}"
      ]
     },
     "execution_count": 88,
     "metadata": {},
     "output_type": "execute_result"
    }
   ],
   "source": [
    "url = \"http://127.0.0.1:8000/items/1234\"\n",
    "response = requests.get(url)\n",
    "response.json()"
   ]
  },
  {
   "cell_type": "code",
   "execution_count": 90,
   "id": "2c46674d",
   "metadata": {},
   "outputs": [
    {
     "data": {
      "text/plain": [
       "{'item_id': 1234, 'count': 10}"
      ]
     },
     "execution_count": 90,
     "metadata": {},
     "output_type": "execute_result"
    }
   ],
   "source": [
    "url = \"http://127.0.0.1:8000/items\"\n",
    "response = requests.get(url, params={\"item_id\":1234, \"ct\":10})\n",
    "response.json()"
   ]
  },
  {
   "cell_type": "code",
   "execution_count": 42,
   "id": "ecbacfb3",
   "metadata": {},
   "outputs": [],
   "source": [
    "url = \"http://127.0.0.1:8000/name/\""
   ]
  },
  {
   "cell_type": "code",
   "execution_count": 43,
   "id": "11c35a92",
   "metadata": {},
   "outputs": [],
   "source": [
    "response = requests.get(url, params={\"name\": \"Diane\"})"
   ]
  },
  {
   "cell_type": "code",
   "execution_count": 44,
   "id": "ebb7266b",
   "metadata": {},
   "outputs": [
    {
     "data": {
      "text/plain": [
       "{'name': 'Diane'}"
      ]
     },
     "execution_count": 44,
     "metadata": {},
     "output_type": "execute_result"
    }
   ],
   "source": [
    "response.json()"
   ]
  },
  {
   "cell_type": "markdown",
   "id": "4b51faa1",
   "metadata": {},
   "source": [
    "For ex02.py, ex03.py"
   ]
  },
  {
   "cell_type": "code",
   "execution_count": 47,
   "id": "352eeff3",
   "metadata": {},
   "outputs": [],
   "source": [
    "import json\n",
    "\n",
    "url = \"http://127.0.0.1:8000/add_items\"\n",
    "data = {\"name\":\"Paper\", \"price\":12.4, \"instock_qt\": 10}\n",
    "response = requests.post(url, data=json.dumps(data))"
   ]
  },
  {
   "cell_type": "code",
   "execution_count": 48,
   "id": "309a63e0",
   "metadata": {},
   "outputs": [
    {
     "data": {
      "text/plain": [
       "{'total_worth': 124.0}"
      ]
     },
     "execution_count": 48,
     "metadata": {},
     "output_type": "execute_result"
    }
   ],
   "source": [
    "response.json()"
   ]
  },
  {
   "cell_type": "code",
   "execution_count": 33,
   "id": "b40b0c18",
   "metadata": {},
   "outputs": [],
   "source": [
    "data = {\"price\":6.0, \"name\":\"Markers\", \"instock_qt\": 2}\n",
    "response = requests.post(url, data=json.dumps(data))"
   ]
  },
  {
   "cell_type": "code",
   "execution_count": 34,
   "id": "6e6dedd0",
   "metadata": {},
   "outputs": [
    {
     "data": {
      "text/plain": [
       "{'message': 'Item added successfully',\n",
       " 'items': {'Paper': {'name': 'Paper', 'price': 12.4, 'instock_qt': 10},\n",
       "  'Markers': {'name': 'Markers', 'price': 6.0, 'instock_qt': 2}}}"
      ]
     },
     "execution_count": 34,
     "metadata": {},
     "output_type": "execute_result"
    }
   ],
   "source": [
    "response.json()"
   ]
  },
  {
   "cell_type": "code",
   "execution_count": 35,
   "id": "6f84c1ff",
   "metadata": {},
   "outputs": [],
   "source": [
    "data = {\"name\":\"Whiteboard\", \"price\":56.10}\n",
    "response = requests.post(url, data=json.dumps(data))"
   ]
  },
  {
   "cell_type": "code",
   "execution_count": 36,
   "id": "b5bca8f3",
   "metadata": {},
   "outputs": [
    {
     "data": {
      "text/plain": [
       "{'detail': [{'type': 'missing',\n",
       "   'loc': ['body', 'instock_qt'],\n",
       "   'msg': 'Field required',\n",
       "   'input': {'name': 'Whiteboard', 'price': 56.1}}]}"
      ]
     },
     "execution_count": 36,
     "metadata": {},
     "output_type": "execute_result"
    }
   ],
   "source": [
    "response.json()"
   ]
  },
  {
   "cell_type": "markdown",
   "id": "e7cbe098",
   "metadata": {},
   "source": [
    "For ex04"
   ]
  },
  {
   "cell_type": "code",
   "execution_count": 69,
   "id": "b8f21f99",
   "metadata": {},
   "outputs": [],
   "source": [
    "url = \"http://127.0.0.1:8000/add_items\"\n",
    "data = {\"name\":\"Paper\", \"price\":12.4, \"instock_qt\": 10}\n",
    "response = requests.post(url, data=json.dumps(data))"
   ]
  },
  {
   "cell_type": "code",
   "execution_count": 70,
   "id": "71fdfe8c",
   "metadata": {},
   "outputs": [
    {
     "data": {
      "text/plain": [
       "{'total_worth': 124.0}"
      ]
     },
     "execution_count": 70,
     "metadata": {},
     "output_type": "execute_result"
    }
   ],
   "source": [
    "response.json()"
   ]
  },
  {
   "cell_type": "code",
   "execution_count": 77,
   "id": "606f5749",
   "metadata": {},
   "outputs": [
    {
     "data": {
      "text/plain": [
       "{'name': 'Paper', 'price': 12.4}"
      ]
     },
     "execution_count": 77,
     "metadata": {},
     "output_type": "execute_result"
    }
   ],
   "source": [
    "url = \"http://127.0.0.1:8000/item_details/Paper\"\n",
    "response = requests.get(url)\n",
    "response.json()"
   ]
  },
  {
   "cell_type": "code",
   "execution_count": 84,
   "id": "e8b2e810",
   "metadata": {},
   "outputs": [
    {
     "name": "stdout",
     "output_type": "stream",
     "text": [
      "404\n",
      "{'detail': 'Item, Eraser not found'}\n"
     ]
    }
   ],
   "source": [
    "url = \"http://127.0.0.1:8000/item_details/Eraser\"\n",
    "response = requests.get(url)\n",
    "print(response.status_code)\n",
    "print(response.json())"
   ]
  }
 ],
 "metadata": {
  "kernelspec": {
   "display_name": "msds692",
   "language": "python",
   "name": "python3"
  },
  "language_info": {
   "codemirror_mode": {
    "name": "ipython",
    "version": 3
   },
   "file_extension": ".py",
   "mimetype": "text/x-python",
   "name": "python",
   "nbconvert_exporter": "python",
   "pygments_lexer": "ipython3",
   "version": "3.13.5"
  }
 },
 "nbformat": 4,
 "nbformat_minor": 5
}
