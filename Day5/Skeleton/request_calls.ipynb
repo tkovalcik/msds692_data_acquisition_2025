{
 "cells": [
  {
   "cell_type": "code",
   "execution_count": 1,
   "id": "a1391ee0",
   "metadata": {},
   "outputs": [
    {
     "name": "stdout",
     "output_type": "stream",
     "text": [
      "Requirement already satisfied: fastapi in /opt/anaconda3/envs/msds692/lib/python3.13/site-packages (0.115.2)\n",
      "Requirement already satisfied: starlette<0.41.0,>=0.37.2 in /opt/anaconda3/envs/msds692/lib/python3.13/site-packages (from fastapi) (0.38.2)\n",
      "Requirement already satisfied: pydantic!=1.8,!=1.8.1,!=2.0.0,!=2.0.1,!=2.1.0,<3.0.0,>=1.7.4 in /opt/anaconda3/envs/msds692/lib/python3.13/site-packages (from fastapi) (2.11.7)\n",
      "Requirement already satisfied: typing-extensions>=4.8.0 in /opt/anaconda3/envs/msds692/lib/python3.13/site-packages (from fastapi) (4.12.2)\n",
      "Requirement already satisfied: annotated-types>=0.6.0 in /opt/anaconda3/envs/msds692/lib/python3.13/site-packages (from pydantic!=1.8,!=1.8.1,!=2.0.0,!=2.0.1,!=2.1.0,<3.0.0,>=1.7.4->fastapi) (0.6.0)\n",
      "Requirement already satisfied: pydantic-core==2.33.2 in /opt/anaconda3/envs/msds692/lib/python3.13/site-packages (from pydantic!=1.8,!=1.8.1,!=2.0.0,!=2.0.1,!=2.1.0,<3.0.0,>=1.7.4->fastapi) (2.33.2)\n",
      "Requirement already satisfied: typing-inspection>=0.4.0 in /opt/anaconda3/envs/msds692/lib/python3.13/site-packages (from pydantic!=1.8,!=1.8.1,!=2.0.0,!=2.0.1,!=2.1.0,<3.0.0,>=1.7.4->fastapi) (0.4.0)\n",
      "Requirement already satisfied: anyio<5,>=3.4.0 in /opt/anaconda3/envs/msds692/lib/python3.13/site-packages (from starlette<0.41.0,>=0.37.2->fastapi) (4.10.0)\n",
      "Requirement already satisfied: idna>=2.8 in /opt/anaconda3/envs/msds692/lib/python3.13/site-packages (from anyio<5,>=3.4.0->starlette<0.41.0,>=0.37.2->fastapi) (3.7)\n",
      "Requirement already satisfied: sniffio>=1.1 in /opt/anaconda3/envs/msds692/lib/python3.13/site-packages (from anyio<5,>=3.4.0->starlette<0.41.0,>=0.37.2->fastapi) (1.3.0)\n"
     ]
    }
   ],
   "source": [
    "!pip install fastapi"
   ]
  },
  {
   "cell_type": "code",
   "execution_count": 2,
   "id": "38efd39d",
   "metadata": {},
   "outputs": [],
   "source": [
    "import requests"
   ]
  },
  {
   "cell_type": "markdown",
   "id": "4751cdcc",
   "metadata": {},
   "source": [
    "For ex.01"
   ]
  },
  {
   "cell_type": "code",
   "execution_count": 3,
   "id": "9ffbc030",
   "metadata": {},
   "outputs": [
    {
     "data": {
      "text/plain": [
       "{'item_id': '1234'}"
      ]
     },
     "execution_count": 3,
     "metadata": {},
     "output_type": "execute_result"
    }
   ],
   "source": [
    "url = \"http://127.0.0.1:8000/items/1234\"\n",
    "response = requests.get(url)\n",
    "response.json()"
   ]
  },
  {
   "cell_type": "code",
   "execution_count": 90,
   "id": "2c46674d",
   "metadata": {},
   "outputs": [
    {
     "data": {
      "text/plain": [
       "{'item_id': 1234, 'count': 10}"
      ]
     },
     "execution_count": 90,
     "metadata": {},
     "output_type": "execute_result"
    }
   ],
   "source": [
    "url = \"http://127.0.0.1:8000/items\"\n",
    "response = requests.get(url, params={\"item_id\":1234, \"ct\":10})\n",
    "response.json()"
   ]
  },
  {
   "cell_type": "code",
   "execution_count": 42,
   "id": "ecbacfb3",
   "metadata": {},
   "outputs": [],
   "source": [
    "url = \"http://127.0.0.1:8000/name/\""
   ]
  },
  {
   "cell_type": "code",
   "execution_count": 43,
   "id": "11c35a92",
   "metadata": {},
   "outputs": [],
   "source": [
    "response = requests.get(url, params={\"name\": \"Diane\"})"
   ]
  },
  {
   "cell_type": "code",
   "execution_count": 44,
   "id": "ebb7266b",
   "metadata": {},
   "outputs": [
    {
     "data": {
      "text/plain": [
       "{'name': 'Diane'}"
      ]
     },
     "execution_count": 44,
     "metadata": {},
     "output_type": "execute_result"
    }
   ],
   "source": [
    "response.json()"
   ]
  },
  {
   "cell_type": "markdown",
   "id": "4b51faa1",
   "metadata": {},
   "source": [
    "For ex02.py, ex03.py"
   ]
  },
  {
   "cell_type": "code",
   "execution_count": 28,
   "id": "352eeff3",
   "metadata": {},
   "outputs": [],
   "source": [
    "import json\n",
    "\n",
    "url = \"http://127.0.0.1:8000/add_items\"\n",
    "data = {\"name\":\"Paper\", \"price\":12.4, \"instock_qt\": 10}\n",
    "response = requests.post(url, data=json.dumps(data))"
   ]
  },
  {
   "cell_type": "code",
   "execution_count": 29,
   "id": "309a63e0",
   "metadata": {},
   "outputs": [
    {
     "data": {
      "text/plain": [
       "{'total_worth': 124.0}"
      ]
     },
     "execution_count": 29,
     "metadata": {},
     "output_type": "execute_result"
    }
   ],
   "source": [
    "response.json()"
   ]
  },
  {
   "cell_type": "code",
   "execution_count": 30,
   "id": "b40b0c18",
   "metadata": {},
   "outputs": [],
   "source": [
    "data = {\"price\":6.0, \"name\":\"Markers\", \"instock_qt\": 2}\n",
    "response = requests.post(url, data=json.dumps(data))"
   ]
  },
  {
   "cell_type": "code",
   "execution_count": 31,
   "id": "6e6dedd0",
   "metadata": {},
   "outputs": [
    {
     "data": {
      "text/plain": [
       "{'total_worth': 12.0}"
      ]
     },
     "execution_count": 31,
     "metadata": {},
     "output_type": "execute_result"
    }
   ],
   "source": [
    "response.json()"
   ]
  },
  {
   "cell_type": "code",
   "execution_count": 32,
   "id": "6f84c1ff",
   "metadata": {},
   "outputs": [],
   "source": [
    "data = {\"name\":\"Whiteboard\", \"price\":56.10}\n",
    "response = requests.post(url, data=json.dumps(data))"
   ]
  },
  {
   "cell_type": "code",
   "execution_count": 33,
   "id": "b5bca8f3",
   "metadata": {},
   "outputs": [
    {
     "data": {
      "text/plain": [
       "{'detail': [{'type': 'missing',\n",
       "   'loc': ['body', 'instock_qt'],\n",
       "   'msg': 'Field required',\n",
       "   'input': {'name': 'Whiteboard', 'price': 56.1}}]}"
      ]
     },
     "execution_count": 33,
     "metadata": {},
     "output_type": "execute_result"
    }
   ],
   "source": [
    "response.json()"
   ]
  },
  {
   "cell_type": "code",
   "execution_count": 46,
   "id": "b0fd13d7",
   "metadata": {},
   "outputs": [],
   "source": [
    "data = {\"name\": \"Aatish\",\n",
    "        \"email\": \"aatusg@usfca.edu\",\n",
    "        \"age\": 18}\n",
    "\n",
    "response = requests.post(\"http://127.0.0.1:8000/add_student\",\n",
    "              data = json.dumps(data))\n",
    "\n"
   ]
  },
  {
   "cell_type": "code",
   "execution_count": 47,
   "id": "e222ed88",
   "metadata": {},
   "outputs": [
    {
     "data": {
      "text/plain": [
       "{'detail': 'Not Found'}"
      ]
     },
     "execution_count": 47,
     "metadata": {},
     "output_type": "execute_result"
    }
   ],
   "source": [
    "response.json()"
   ]
  },
  {
   "cell_type": "markdown",
   "id": "e7cbe098",
   "metadata": {},
   "source": [
    "For ex04"
   ]
  },
  {
   "cell_type": "code",
   "execution_count": 69,
   "id": "b8f21f99",
   "metadata": {},
   "outputs": [],
   "source": [
    "url = \"http://127.0.0.1:8000/add_items\"\n",
    "data = {\"name\":\"Paper\", \"price\":12.4, \"instock_qt\": 10}\n",
    "response = requests.post(url, data=json.dumps(data))"
   ]
  },
  {
   "cell_type": "code",
   "execution_count": 70,
   "id": "71fdfe8c",
   "metadata": {},
   "outputs": [
    {
     "data": {
      "text/plain": [
       "{'total_worth': 124.0}"
      ]
     },
     "execution_count": 70,
     "metadata": {},
     "output_type": "execute_result"
    }
   ],
   "source": [
    "response.json()"
   ]
  },
  {
   "cell_type": "code",
   "execution_count": 77,
   "id": "606f5749",
   "metadata": {},
   "outputs": [
    {
     "data": {
      "text/plain": [
       "{'name': 'Paper', 'price': 12.4}"
      ]
     },
     "execution_count": 77,
     "metadata": {},
     "output_type": "execute_result"
    }
   ],
   "source": [
    "url = \"http://127.0.0.1:8000/item_details/Paper\"\n",
    "response = requests.get(url)\n",
    "response.json()"
   ]
  },
  {
   "cell_type": "code",
   "execution_count": 84,
   "id": "e8b2e810",
   "metadata": {},
   "outputs": [
    {
     "name": "stdout",
     "output_type": "stream",
     "text": [
      "404\n",
      "{'detail': 'Item, Eraser not found'}\n"
     ]
    }
   ],
   "source": [
    "url = \"http://127.0.0.1:8000/item_details/Eraser\"\n",
    "response = requests.get(url)\n",
    "print(response.status_code)\n",
    "print(response.json())"
   ]
  }
 ],
 "metadata": {
  "kernelspec": {
   "display_name": "msds692",
   "language": "python",
   "name": "python3"
  },
  "language_info": {
   "codemirror_mode": {
    "name": "ipython",
    "version": 3
   },
   "file_extension": ".py",
   "mimetype": "text/x-python",
   "name": "python",
   "nbconvert_exporter": "python",
   "pygments_lexer": "ipython3",
   "version": "3.13.5"
  }
 },
 "nbformat": 4,
 "nbformat_minor": 5
}
