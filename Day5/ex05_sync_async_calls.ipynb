{
 "cells": [
  {
   "cell_type": "code",
   "execution_count": 17,
   "id": "e0267a32",
   "metadata": {},
   "outputs": [
    {
     "name": "stdout",
     "output_type": "stream",
     "text": [
      "200\n",
      "{'first': {'args': {}, 'data': '', 'files': {}, 'form': {}, 'headers': {'Accept': '*/*', 'Accept-Encoding': 'gzip, deflate', 'Host': 'httpbin.org', 'User-Agent': 'python-httpx/0.28.1', 'X-Amzn-Trace-Id': 'Root=1-68be561c-160c68675d33da5f13d226bc'}, 'origin': '73.222.133.163', 'url': 'https://httpbin.org/delay/1.2'}, 'second': {'args': {}, 'data': '', 'files': {}, 'form': {}, 'headers': {'Accept': '*/*', 'Accept-Encoding': 'gzip, deflate', 'Host': 'httpbin.org', 'User-Agent': 'python-httpx/0.28.1', 'X-Amzn-Trace-Id': 'Root=1-68be561e-3dc610f86b0bc2260e143861'}, 'origin': '73.222.133.163', 'url': 'https://httpbin.org/delay/1.2'}}\n"
     ]
    }
   ],
   "source": [
    "import httpx\n",
    "\n",
    "url = \"http://127.0.0.1:8000/sync\"\n",
    "response = httpx.get(url)\n",
    "print(response.status_code)\n",
    "print(response.json())"
   ]
  },
  {
   "cell_type": "code",
   "execution_count": 18,
   "id": "28a9a5f1",
   "metadata": {},
   "outputs": [
    {
     "name": "stdout",
     "output_type": "stream",
     "text": [
      "200\n",
      "{'first': {'args': {}, 'data': '', 'files': {}, 'form': {}, 'headers': {'Accept': '*/*', 'Accept-Encoding': 'gzip, deflate', 'Host': 'httpbin.org', 'User-Agent': 'python-httpx/0.28.1', 'X-Amzn-Trace-Id': 'Root=1-68be5621-3b08b28701a4b98130c2724a'}, 'origin': '73.222.133.163', 'url': 'https://httpbin.org/delay/1.2'}, 'second': {'args': {}, 'data': '', 'files': {}, 'form': {}, 'headers': {'Accept': '*/*', 'Accept-Encoding': 'gzip, deflate', 'Host': 'httpbin.org', 'User-Agent': 'python-httpx/0.28.1', 'X-Amzn-Trace-Id': 'Root=1-68be5623-42c9851d48fc073a535c3a57'}, 'origin': '73.222.133.163', 'url': 'https://httpbin.org/delay/1.2'}}\n"
     ]
    }
   ],
   "source": [
    "import httpx\n",
    "\n",
    "url = \"http://127.0.0.1:8000/async\"\n",
    "async with httpx.AsyncClient() as client:\n",
    "    response = await client.get(url)\n",
    "print(response.status_code)\n",
    "print(response.json())"
   ]
  }
 ],
 "metadata": {
  "kernelspec": {
   "display_name": "msds692",
   "language": "python",
   "name": "python3"
  },
  "language_info": {
   "codemirror_mode": {
    "name": "ipython",
    "version": 3
   },
   "file_extension": ".py",
   "mimetype": "text/x-python",
   "name": "python",
   "nbconvert_exporter": "python",
   "pygments_lexer": "ipython3",
   "version": "3.13.5"
  }
 },
 "nbformat": 4,
 "nbformat_minor": 5
}
