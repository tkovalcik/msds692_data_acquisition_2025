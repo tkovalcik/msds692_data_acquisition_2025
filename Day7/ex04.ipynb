{
 "cells": [
  {
   "cell_type": "markdown",
   "id": "7c8e6eaa",
   "metadata": {},
   "source": [
    "From \"https://www.edf.org/about\", retrieve paragraph strings of \"intro\"\n",
    "\n",
    "- 'We began in 1967, as a scrappy group of scientists and a lawyer on Long Island, New York, fighting to save osprey from the toxic pesticide DDT. Using scientific evidence, our founders got DDT banned in the U.S.Today, we’re one of the world’s top environmental organizations. We deliver bold solutions that cut harmful pollution and strengthen the ability of people and nature to thrive — even with the changes to the climate we feel right now.And science still guides everything we do.'"
   ]
  },
  {
   "cell_type": "code",
   "execution_count": 1,
   "id": "cfeef3b5",
   "metadata": {},
   "outputs": [],
   "source": [
    "import requests\n",
    "from bs4 import BeautifulSoup"
   ]
  },
  {
   "cell_type": "code",
   "execution_count": 7,
   "id": "52f14240",
   "metadata": {},
   "outputs": [],
   "source": [
    "response = requests.get(\"https://www.edf.org/about\")\n",
    "html_text = response.text"
   ]
  },
  {
   "cell_type": "code",
   "execution_count": 9,
   "id": "803de2b8",
   "metadata": {},
   "outputs": [],
   "source": [
    "soup = BeautifulSoup(html_text, \"html.parser\")"
   ]
  },
  {
   "cell_type": "code",
   "execution_count": 39,
   "id": "ebbeddac",
   "metadata": {},
   "outputs": [],
   "source": [
    "intro = \"\"\n",
    "for paragraph in soup.select(\"p\"):\n",
    "    if paragraph.parent['class'][0] == \"intro\":\n",
    "        intro += paragraph.string"
   ]
  },
  {
   "cell_type": "code",
   "execution_count": 37,
   "id": "12c2d6a8",
   "metadata": {},
   "outputs": [
    {
     "data": {
      "text/plain": [
       "'We began in 1967, as a scrappy group of scientists and a lawyer on Long Island, New York, fighting to save osprey from the toxic pesticide DDT. Using scientific evidence, our founders got DDT banned in the U.S.Today, we’re one of the world’s top environmental organizations. We deliver bold solutions that cut harmful pollution and strengthen the ability of people and nature to thrive — even with the changes to the climate we feel right now.And science still guides everything we do.'"
      ]
     },
     "execution_count": 37,
     "metadata": {},
     "output_type": "execute_result"
    }
   ],
   "source": [
    "intro"
   ]
  },
  {
   "cell_type": "code",
   "execution_count": null,
   "id": "7dfe0471",
   "metadata": {},
   "outputs": [],
   "source": []
  }
 ],
 "metadata": {
  "kernelspec": {
   "display_name": "msds692",
   "language": "python",
   "name": "python3"
  },
  "language_info": {
   "codemirror_mode": {
    "name": "ipython",
    "version": 3
   },
   "file_extension": ".py",
   "mimetype": "text/x-python",
   "name": "python",
   "nbconvert_exporter": "python",
   "pygments_lexer": "ipython3",
   "version": "3.13.5"
  }
 },
 "nbformat": 4,
 "nbformat_minor": 5
}
