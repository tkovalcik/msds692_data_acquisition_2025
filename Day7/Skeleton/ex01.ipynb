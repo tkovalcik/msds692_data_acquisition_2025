{
 "cells": [
  {
   "cell_type": "markdown",
   "id": "0758633c",
   "metadata": {},
   "source": [
    "<b> Using example.html in Data, "
   ]
  },
  {
   "cell_type": "code",
   "execution_count": 18,
   "id": "200ab844",
   "metadata": {},
   "outputs": [],
   "source": [
    "from bs4 import BeautifulSoup"
   ]
  },
  {
   "cell_type": "code",
   "execution_count": 19,
   "id": "eaa96e57",
   "metadata": {},
   "outputs": [],
   "source": [
    "file_name = \"../../Data/sample.html\""
   ]
  },
  {
   "cell_type": "code",
   "execution_count": 20,
   "id": "9ead6d00",
   "metadata": {},
   "outputs": [],
   "source": [
    "with open(file_name, 'r') as file:\n",
    "    html_data = file.read()"
   ]
  },
  {
   "cell_type": "markdown",
   "id": "f529acf8",
   "metadata": {},
   "source": [
    "- Using `html_data`, create a soup object using HTML documents"
   ]
  },
  {
   "cell_type": "code",
   "execution_count": 23,
   "id": "ed787f53",
   "metadata": {},
   "outputs": [
    {
     "name": "stdout",
     "output_type": "stream",
     "text": [
      "<!DOCTYPE html>\n",
      "\n",
      "<html lang=\"en\">\n",
      "<head>\n",
      "<meta charset=\"utf-8\"/>\n",
      "<title>Sample Page for Scraping</title>\n",
      "</head>\n",
      "<body>\n",
      "<h1 id=\"main-title\">Welcome to My Sample Page</h1>\n",
      "<p class=\"intro\">This page is created for practicing <b>BeautifulSoup</b>.</p>\n",
      "<div class=\"content\">\n",
      "<h2>Articles</h2>\n",
      "<p class=\"article\">Article 1: <a href=\"https://www.usfca.edu/arts-sciences/programs/graduate/data-science-artificial-intelligence\">USF MSDSAI</a></p>\n",
      "<p class=\"article\">Article 2: <a href=\"https://catalog.usfca.edu/preview_program.php?catoid=37&amp;poid=35409&amp;returnto=8545\">USF MSDSAI Classes</a></p>\n",
      "<p class=\"article\">Article 3: <a href=\"https://www.usfca.edu/koret\">Koret Center</a></p>\n",
      "</div>\n",
      "<div id=\"sidebar\">\n",
      "<h2>Resources</h2>\n",
      "<ul>\n",
      "<li><a class=\"resource\" href=\"https://docs.python.org\">Python Docs</a></li>\n",
      "<li><a class=\"resource\" href=\"https://beautiful-soup-4.readthedocs.io\">BeautifulSoup Docs</a></li>\n",
      "<li><a class=\"resource\" href=\"https://pandas.pydata.org\">Pandas</a></li>\n",
      "</ul>\n",
      "</div>\n",
      "<footer>\n",
      "<p>Contact: <span id=\"email\">dwoodbridge@usfca.edu</span></p>\n",
      "</footer>\n",
      "</body>\n",
      "</html>\n",
      "\n"
     ]
    }
   ],
   "source": [
    "from bs4 import BeautifulSoup\n",
    "\n",
    "soup = BeautifulSoup(html_data, \"html.parser\")\n",
    "print(soup)"
   ]
  },
  {
   "cell_type": "markdown",
   "id": "32757e2d",
   "metadata": {},
   "source": [
    "Accessing Objects using a \"Tag\" or \"NavigableString\"\n",
    "- Tag is letters come right after the opening <> Ex. ```<h1> Header </h1> ```: h1 is the tag. You can access the tag's name, children, and attributes\n",
    "- A NavigableString object is a special Python string that holds the text content within a tag. You can access it via `string`. In the above case, soup.h1.string would be `Header`."
   ]
  },
  {
   "cell_type": "markdown",
   "id": "08843e04",
   "metadata": {},
   "source": [
    "- Navigating the Tree"
   ]
  },
  {
   "cell_type": "markdown",
   "id": "24e78922",
   "metadata": {},
   "source": [
    ">>>  <small>* .tag_name : Find By Tag"
   ]
  },
  {
   "cell_type": "code",
   "execution_count": 48,
   "id": "f7b996f7",
   "metadata": {},
   "outputs": [
    {
     "data": {
      "text/plain": [
       "<title>Sample Page for Scraping</title>"
      ]
     },
     "execution_count": 48,
     "metadata": {},
     "output_type": "execute_result"
    }
   ],
   "source": [
    "soup.title"
   ]
  },
  {
   "cell_type": "code",
   "execution_count": 49,
   "id": "2d21f9d3",
   "metadata": {},
   "outputs": [
    {
     "data": {
      "text/plain": [
       "'Sample Page for Scraping'"
      ]
     },
     "execution_count": 49,
     "metadata": {},
     "output_type": "execute_result"
    }
   ],
   "source": [
    "soup.title.string"
   ]
  },
  {
   "cell_type": "markdown",
   "id": "6857adee",
   "metadata": {},
   "source": [
    ">> <small> * find() : Find First Occurence"
   ]
  },
  {
   "cell_type": "code",
   "execution_count": 31,
   "id": "c504a84e",
   "metadata": {},
   "outputs": [
    {
     "data": {
      "text/plain": [
       "<h1 id=\"main-title\">Welcome to My Sample Page</h1>"
      ]
     },
     "execution_count": 31,
     "metadata": {},
     "output_type": "execute_result"
    }
   ],
   "source": [
    "soup.find(\"h1\")"
   ]
  },
  {
   "cell_type": "markdown",
   "id": "aad850cf",
   "metadata": {},
   "source": [
    ">>> <small> * find_all():  Find All Occurence"
   ]
  },
  {
   "cell_type": "code",
   "execution_count": null,
   "id": "2988b7d6",
   "metadata": {},
   "outputs": [
    {
     "data": {
      "text/plain": [
       "[<p class=\"intro\">This page is created for practicing <b>BeautifulSoup</b>.</p>,\n",
       " <p class=\"article\">Article 1: <a href=\"https://www.usfca.edu/arts-sciences/programs/graduate/data-science-artificial-intelligence\">USF MSDSAI</a></p>,\n",
       " <p class=\"article\">Article 2: <a href=\"https://catalog.usfca.edu/preview_program.php?catoid=37&amp;poid=35409&amp;returnto=8545\">USF MSDSAI Classes</a></p>,\n",
       " <p class=\"article\">Article 3: <a href=\"https://www.usfca.edu/koret\">Koret Center</a></p>,\n",
       " <p>Contact: <span id=\"email\">dwoodbridge@usfca.edu</span></p>]"
      ]
     },
     "execution_count": 32,
     "metadata": {},
     "output_type": "execute_result"
    }
   ],
   "source": [
    "soup.find_all(\"p\")"
   ]
  },
  {
   "cell_type": "markdown",
   "id": "3141e76b",
   "metadata": {},
   "source": [
    ">>> <small> * select(): Uses CSS selectors to find all matching elements. This is often more flexible and powerful for complex queries."
   ]
  },
  {
   "cell_type": "code",
   "execution_count": 62,
   "id": "5c041409",
   "metadata": {},
   "outputs": [
    {
     "data": {
      "text/plain": [
       "[<div id=\"sidebar\">\n",
       " <h2>Resources</h2>\n",
       " <ul>\n",
       " <li><a class=\"resource\" href=\"https://docs.python.org\">Python Docs</a></li>\n",
       " <li><a class=\"resource\" href=\"https://beautiful-soup-4.readthedocs.io\">BeautifulSoup Docs</a></li>\n",
       " <li><a class=\"resource\" href=\"https://pandas.pydata.org\">Pandas</a></li>\n",
       " </ul>\n",
       " </div>]"
      ]
     },
     "execution_count": 62,
     "metadata": {},
     "output_type": "execute_result"
    }
   ],
   "source": [
    "soup.select(\"div#sidebar\")"
   ]
  },
  {
   "cell_type": "code",
   "execution_count": 63,
   "id": "79ff5c04",
   "metadata": {},
   "outputs": [
    {
     "data": {
      "text/plain": [
       "[<li><a class=\"resource\" href=\"https://docs.python.org\">Python Docs</a></li>,\n",
       " <li><a class=\"resource\" href=\"https://beautiful-soup-4.readthedocs.io\">BeautifulSoup Docs</a></li>,\n",
       " <li><a class=\"resource\" href=\"https://pandas.pydata.org\">Pandas</a></li>]"
      ]
     },
     "execution_count": 63,
     "metadata": {},
     "output_type": "execute_result"
    }
   ],
   "source": [
    "soup.select(\"div#sidebar li\")"
   ]
  },
  {
   "cell_type": "markdown",
   "id": "c787f868",
   "metadata": {},
   "source": [
    ">>> <small> - .get() or accessing like dictionary to access Attributes"
   ]
  },
  {
   "cell_type": "code",
   "execution_count": 70,
   "id": "1891413f",
   "metadata": {},
   "outputs": [
    {
     "name": "stdout",
     "output_type": "stream",
     "text": [
      "https://docs.python.org\n",
      "https://beautiful-soup-4.readthedocs.io\n",
      "https://pandas.pydata.org\n"
     ]
    }
   ],
   "source": [
    "for a_tag in soup.select(\"div#sidebar li a\"):\n",
    "    print(a_tag.get(\"href\"))"
   ]
  },
  {
   "cell_type": "code",
   "execution_count": 71,
   "id": "46a84de4",
   "metadata": {},
   "outputs": [
    {
     "name": "stdout",
     "output_type": "stream",
     "text": [
      "https://docs.python.org\n",
      "https://beautiful-soup-4.readthedocs.io\n",
      "https://pandas.pydata.org\n"
     ]
    }
   ],
   "source": [
    "for a_tag in soup.select(\"div#sidebar li a\"):\n",
    "    print(a_tag[\"href\"])"
   ]
  },
  {
   "cell_type": "markdown",
   "id": "64ee6acd",
   "metadata": {},
   "source": [
    "- Navigating Tree"
   ]
  },
  {
   "cell_type": "markdown",
   "id": "74ff91a1",
   "metadata": {},
   "source": [
    ">>> <small> * Navigating Down using `.children`"
   ]
  },
  {
   "cell_type": "code",
   "execution_count": 78,
   "id": "dcdbb079",
   "metadata": {},
   "outputs": [
    {
     "name": "stdout",
     "output_type": "stream",
     "text": [
      "\n",
      "\n",
      "Articles\n",
      "\n",
      "\n",
      "Article 1: USF MSDSAI\n",
      "\n",
      "\n",
      "Article 2: USF MSDSAI Classes\n",
      "\n",
      "\n",
      "Article 3: Koret Center\n",
      "\n",
      "\n",
      "--------\n",
      "\n",
      "\n",
      "Resources\n",
      "\n",
      "\n",
      "\n",
      "Python Docs\n",
      "BeautifulSoup Docs\n",
      "Pandas\n",
      "\n",
      "\n",
      "\n",
      "--------\n"
     ]
    }
   ],
   "source": [
    "for div in soup.find_all(\"div\"):\n",
    "    for child in div.children:\n",
    "        print(child.text)\n",
    "    print(\"--------\")"
   ]
  },
  {
   "cell_type": "code",
   "execution_count": 76,
   "id": "f8ebefbc",
   "metadata": {},
   "outputs": [
    {
     "data": {
      "text/plain": [
       "[<div class=\"content\">\n",
       " <h2>Articles</h2>\n",
       " <p class=\"article\">Article 1: <a href=\"https://www.usfca.edu/arts-sciences/programs/graduate/data-science-artificial-intelligence\">USF MSDSAI</a></p>\n",
       " <p class=\"article\">Article 2: <a href=\"https://catalog.usfca.edu/preview_program.php?catoid=37&amp;poid=35409&amp;returnto=8545\">USF MSDSAI Classes</a></p>\n",
       " <p class=\"article\">Article 3: <a href=\"https://www.usfca.edu/koret\">Koret Center</a></p>\n",
       " </div>,\n",
       " <div id=\"sidebar\">\n",
       " <h2>Resources</h2>\n",
       " <ul>\n",
       " <li><a class=\"resource\" href=\"https://docs.python.org\">Python Docs</a></li>\n",
       " <li><a class=\"resource\" href=\"https://beautiful-soup-4.readthedocs.io\">BeautifulSoup Docs</a></li>\n",
       " <li><a class=\"resource\" href=\"https://pandas.pydata.org\">Pandas</a></li>\n",
       " </ul>\n",
       " </div>]"
      ]
     },
     "execution_count": 76,
     "metadata": {},
     "output_type": "execute_result"
    }
   ],
   "source": [
    "soup.find_all(\"div\")"
   ]
  },
  {
   "cell_type": "markdown",
   "id": "1b85f93a",
   "metadata": {},
   "source": [
    ">>> <small> * Navigating Up using `.parent`"
   ]
  },
  {
   "cell_type": "code",
   "execution_count": 85,
   "id": "9c2d394b",
   "metadata": {},
   "outputs": [
    {
     "name": "stdout",
     "output_type": "stream",
     "text": [
      "=============\n",
      "Python Docs\n",
      "<ul>\n",
      "<li><a class=\"resource\" href=\"https://docs.python.org\">Python Docs</a></li>\n",
      "<li><a class=\"resource\" href=\"https://beautiful-soup-4.readthedocs.io\">BeautifulSoup Docs</a></li>\n",
      "<li><a class=\"resource\" href=\"https://pandas.pydata.org\">Pandas</a></li>\n",
      "</ul>\n",
      "=============\n",
      "BeautifulSoup Docs\n",
      "<ul>\n",
      "<li><a class=\"resource\" href=\"https://docs.python.org\">Python Docs</a></li>\n",
      "<li><a class=\"resource\" href=\"https://beautiful-soup-4.readthedocs.io\">BeautifulSoup Docs</a></li>\n",
      "<li><a class=\"resource\" href=\"https://pandas.pydata.org\">Pandas</a></li>\n",
      "</ul>\n",
      "=============\n",
      "Pandas\n",
      "<ul>\n",
      "<li><a class=\"resource\" href=\"https://docs.python.org\">Python Docs</a></li>\n",
      "<li><a class=\"resource\" href=\"https://beautiful-soup-4.readthedocs.io\">BeautifulSoup Docs</a></li>\n",
      "<li><a class=\"resource\" href=\"https://pandas.pydata.org\">Pandas</a></li>\n",
      "</ul>\n"
     ]
    }
   ],
   "source": [
    "for a in soup.find_all(\"li\"):\n",
    "    print(\"=============\")\n",
    "    print(a.text)\n",
    "    print(a.parent)"
   ]
  },
  {
   "cell_type": "markdown",
   "id": "4c85af3f",
   "metadata": {},
   "source": [
    ">>> <small> Navigating siblings using `.next_siblings` or `.previous_siblings`\n",
    ">>>> * Note :  the `.next_sibling` or `.previous_sibling` of a tag will usually be a string containing whitespace.  Therefore you may want to access the real sibling by `.next_sibling.next_sibling` or `previous_sibling.previous_sibling`"
   ]
  },
  {
   "cell_type": "code",
   "execution_count": 122,
   "id": "a1488e82",
   "metadata": {},
   "outputs": [
    {
     "data": {
      "text/plain": [
       "<div class=\"content\">\n",
       "<h2>Articles</h2>\n",
       "<p class=\"article\">Article 1: <a href=\"https://www.usfca.edu/arts-sciences/programs/graduate/data-science-artificial-intelligence\">USF MSDSAI</a></p>\n",
       "<p class=\"article\">Article 2: <a href=\"https://catalog.usfca.edu/preview_program.php?catoid=37&amp;poid=35409&amp;returnto=8545\">USF MSDSAI Classes</a></p>\n",
       "<p class=\"article\">Article 3: <a href=\"https://www.usfca.edu/koret\">Koret Center</a></p>\n",
       "</div>"
      ]
     },
     "execution_count": 122,
     "metadata": {},
     "output_type": "execute_result"
    }
   ],
   "source": [
    "soup.div"
   ]
  },
  {
   "cell_type": "code",
   "execution_count": 121,
   "id": "d33860a5",
   "metadata": {},
   "outputs": [
    {
     "data": {
      "text/plain": [
       "<div id=\"sidebar\">\n",
       "<h2>Resources</h2>\n",
       "<ul>\n",
       "<li><a class=\"resource\" href=\"https://docs.python.org\">Python Docs</a></li>\n",
       "<li><a class=\"resource\" href=\"https://beautiful-soup-4.readthedocs.io\">BeautifulSoup Docs</a></li>\n",
       "<li><a class=\"resource\" href=\"https://pandas.pydata.org\">Pandas</a></li>\n",
       "</ul>\n",
       "</div>"
      ]
     },
     "execution_count": 121,
     "metadata": {},
     "output_type": "execute_result"
    }
   ],
   "source": [
    "soup.div.next_sibling.next_sibling"
   ]
  },
  {
   "cell_type": "code",
   "execution_count": 95,
   "id": "a29d95b0",
   "metadata": {},
   "outputs": [
    {
     "name": "stdout",
     "output_type": "stream",
     "text": [
      "Article 1: \n"
     ]
    }
   ],
   "source": [
    "for sibling in soup.find(\"a\").previous_siblings:\n",
    "    print(sibling)"
   ]
  },
  {
   "cell_type": "code",
   "execution_count": 165,
   "id": "3a20bb01",
   "metadata": {},
   "outputs": [
    {
     "name": "stdout",
     "output_type": "stream",
     "text": [
      "<a href=\"https://www.usfca.edu/arts-sciences/programs/graduate/data-science-artificial-intelligence\">USF MSDSAI</a>: ['Article 1: ']\n",
      "<a href=\"https://catalog.usfca.edu/preview_program.php?catoid=37&amp;poid=35409&amp;returnto=8545\">USF MSDSAI Classes</a>: ['Article 2: ']\n",
      "<a href=\"https://www.usfca.edu/koret\">Koret Center</a>: ['Article 3: ']\n",
      "<a class=\"resource\" href=\"https://docs.python.org\">Python Docs</a>: []\n",
      "<a class=\"resource\" href=\"https://beautiful-soup-4.readthedocs.io\">BeautifulSoup Docs</a>: []\n",
      "<a class=\"resource\" href=\"https://pandas.pydata.org\">Pandas</a>: []\n"
     ]
    }
   ],
   "source": [
    "for item in soup.find_all(\"a\"):\n",
    "    siblings = list(item.previous_siblings) + list(item.next_siblings)\n",
    "    print(f\"{item}: {siblings}\")"
   ]
  },
  {
   "cell_type": "code",
   "execution_count": 136,
   "id": "ca169029",
   "metadata": {},
   "outputs": [
    {
     "data": {
      "text/plain": [
       "<a href=\"https://www.usfca.edu/arts-sciences/programs/graduate/data-science-artificial-intelligence\">USF MSDSAI</a>"
      ]
     },
     "execution_count": 136,
     "metadata": {},
     "output_type": "execute_result"
    }
   ],
   "source": [
    "soup.find(\"a\")"
   ]
  },
  {
   "cell_type": "code",
   "execution_count": null,
   "id": "d5604cec",
   "metadata": {},
   "outputs": [],
   "source": []
  }
 ],
 "metadata": {
  "kernelspec": {
   "display_name": "msds692",
   "language": "python",
   "name": "python3"
  },
  "language_info": {
   "codemirror_mode": {
    "name": "ipython",
    "version": 3
   },
   "file_extension": ".py",
   "mimetype": "text/x-python",
   "name": "python",
   "nbconvert_exporter": "python",
   "pygments_lexer": "ipython3",
   "version": "3.13.5"
  }
 },
 "nbformat": 4,
 "nbformat_minor": 5
}
