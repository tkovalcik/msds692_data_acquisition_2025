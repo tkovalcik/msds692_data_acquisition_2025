{
 "cells": [
  {
   "cell_type": "markdown",
   "id": "e15d4c23",
   "metadata": {},
   "source": [
    "From \"../Data/sample.html\""
   ]
  },
  {
   "cell_type": "code",
   "execution_count": 8,
   "id": "89246ae1",
   "metadata": {},
   "outputs": [],
   "source": [
    "file_name = \"../../Data/sample.html\"\n",
    "with open(file_name, 'r') as file:\n",
    "    html_data = file.read()"
   ]
  },
  {
   "cell_type": "code",
   "execution_count": 9,
   "id": "f06bbbdb",
   "metadata": {},
   "outputs": [],
   "source": [
    "from bs4 import BeautifulSoup\n",
    "\n",
    "soup = BeautifulSoup(html_data, \"html.parser\")"
   ]
  },
  {
   "cell_type": "markdown",
   "id": "8b7615a4",
   "metadata": {},
   "source": [
    "- Return the title of the html content"
   ]
  },
  {
   "cell_type": "code",
   "execution_count": 11,
   "id": "02c4cdad",
   "metadata": {},
   "outputs": [
    {
     "data": {
      "text/plain": [
       "'Sample Page for Scraping'"
      ]
     },
     "execution_count": 11,
     "metadata": {},
     "output_type": "execute_result"
    }
   ],
   "source": [
    "soup.title.string"
   ]
  },
  {
   "cell_type": "markdown",
   "id": "bc2710a2",
   "metadata": {},
   "source": [
    "- Return all `<h2>`"
   ]
  },
  {
   "cell_type": "code",
   "execution_count": 62,
   "id": "1819fd37",
   "metadata": {},
   "outputs": [
    {
     "data": {
      "text/plain": [
       "[<h2>Articles</h2>, <h2>Resources</h2>]"
      ]
     },
     "execution_count": 62,
     "metadata": {},
     "output_type": "execute_result"
    }
   ],
   "source": [
    "soup.find_all(\"h2\")"
   ]
  },
  {
   "cell_type": "code",
   "execution_count": 19,
   "id": "952284a4",
   "metadata": {},
   "outputs": [
    {
     "data": {
      "text/plain": [
       "[<h2>Articles</h2>, <h2>Resources</h2>]"
      ]
     },
     "execution_count": 19,
     "metadata": {},
     "output_type": "execute_result"
    }
   ],
   "source": [
    "soup.select(\"h2\")"
   ]
  },
  {
   "cell_type": "markdown",
   "id": "b2b4515a",
   "metadata": {},
   "source": [
    "- Return all where its id is email"
   ]
  },
  {
   "cell_type": "code",
   "execution_count": 17,
   "id": "91abd3ee",
   "metadata": {},
   "outputs": [
    {
     "data": {
      "text/plain": [
       "[<span id=\"email\">dwoodbridge@usfca.edu</span>]"
      ]
     },
     "execution_count": 17,
     "metadata": {},
     "output_type": "execute_result"
    }
   ],
   "source": [
    "soup.select(\"#email\")"
   ]
  },
  {
   "cell_type": "markdown",
   "id": "e495be74",
   "metadata": {},
   "source": [
    "- Return all `<a>` where its class is \"resource\""
   ]
  },
  {
   "cell_type": "code",
   "execution_count": 59,
   "id": "e82893cc",
   "metadata": {},
   "outputs": [
    {
     "data": {
      "text/plain": [
       "[<a class=\"resource\" href=\"https://docs.python.org\">Python Docs</a>,\n",
       " <a class=\"resource\" href=\"https://beautiful-soup-4.readthedocs.io\">BeautifulSoup Docs</a>,\n",
       " <a class=\"resource\" href=\"https://pandas.pydata.org\">Pandas</a>]"
      ]
     },
     "execution_count": 59,
     "metadata": {},
     "output_type": "execute_result"
    }
   ],
   "source": [
    "soup.select(\"a.resource\")"
   ]
  },
  {
   "cell_type": "code",
   "execution_count": 60,
   "id": "4d37cd35",
   "metadata": {},
   "outputs": [
    {
     "data": {
      "text/plain": [
       "[<a class=\"resource\" href=\"https://docs.python.org\">Python Docs</a>,\n",
       " <a class=\"resource\" href=\"https://beautiful-soup-4.readthedocs.io\">BeautifulSoup Docs</a>,\n",
       " <a class=\"resource\" href=\"https://pandas.pydata.org\">Pandas</a>]"
      ]
     },
     "execution_count": 60,
     "metadata": {},
     "output_type": "execute_result"
    }
   ],
   "source": [
    "soup.select(\"a[class='resource']\")"
   ]
  },
  {
   "cell_type": "markdown",
   "id": "a4a1f817",
   "metadata": {},
   "source": [
    "- Return all`<a>` where its class is resource and href is 'https://docs.python.org'"
   ]
  },
  {
   "cell_type": "code",
   "execution_count": 61,
   "id": "a67b14de",
   "metadata": {},
   "outputs": [
    {
     "data": {
      "text/plain": [
       "[<a class=\"resource\" href=\"https://docs.python.org\">Python Docs</a>]"
      ]
     },
     "execution_count": 61,
     "metadata": {},
     "output_type": "execute_result"
    }
   ],
   "source": [
    "soup.select(\"a[class='resource'][href='https://docs.python.org']\")"
   ]
  },
  {
   "cell_type": "markdown",
   "id": "a97e2404",
   "metadata": {},
   "source": [
    "- Return the NaviableString (string val) of elements, which tag is an anchor `<a>` in an array"
   ]
  },
  {
   "cell_type": "code",
   "execution_count": 68,
   "id": "091c7514",
   "metadata": {},
   "outputs": [],
   "source": [
    "output = []\n",
    "for item in soup.find_all(\"a\"):\n",
    "    output.append(item.string)"
   ]
  },
  {
   "cell_type": "code",
   "execution_count": 69,
   "id": "deae63e0",
   "metadata": {},
   "outputs": [
    {
     "data": {
      "text/plain": [
       "['USF MSDSAI',\n",
       " 'USF MSDSAI Classes',\n",
       " 'Koret Center',\n",
       " 'Python Docs',\n",
       " 'BeautifulSoup Docs',\n",
       " 'Pandas']"
      ]
     },
     "execution_count": 69,
     "metadata": {},
     "output_type": "execute_result"
    }
   ],
   "source": [
    "output"
   ]
  },
  {
   "cell_type": "code",
   "execution_count": null,
   "id": "9715ccc0",
   "metadata": {},
   "outputs": [],
   "source": []
  }
 ],
 "metadata": {
  "kernelspec": {
   "display_name": "msds692",
   "language": "python",
   "name": "python3"
  },
  "language_info": {
   "codemirror_mode": {
    "name": "ipython",
    "version": 3
   },
   "file_extension": ".py",
   "mimetype": "text/x-python",
   "name": "python",
   "nbconvert_exporter": "python",
   "pygments_lexer": "ipython3",
   "version": "3.13.5"
  }
 },
 "nbformat": 4,
 "nbformat_minor": 5
}
