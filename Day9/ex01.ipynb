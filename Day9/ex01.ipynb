{
 "cells": [
  {
   "cell_type": "code",
   "execution_count": 1,
   "id": "5faf5d2f",
   "metadata": {},
   "outputs": [],
   "source": [
    "from dotenv import load_dotenv\n",
    "import os\n",
    "\n",
    "# Make sure to go to your service account and add BigQuery User role\n",
    "load_dotenv('../.env')\n",
    "# load_dotenv()\n",
    "credential_path = os.getenv(\"GCP_SERVICE_ACCOUNT_KEY\") \n",
    "gcp_project_id = os.getenv(\"GCP_PROJECT_ID\")"
   ]
  },
  {
   "cell_type": "code",
   "execution_count": 2,
   "id": "a6be2502",
   "metadata": {},
   "outputs": [],
   "source": [
    "# Creating an engine\n",
    "from sqlalchemy import create_engine\n",
    "from sqlalchemy import MetaData, Table\n",
    "from sqlalchemy import select, and_\n",
    "\n",
    "engine = create_engine(f\"bigquery://{gcp_project_id}\",\n",
    "                       credentials_path=credential_path)"
   ]
  },
  {
   "cell_type": "code",
   "execution_count": 3,
   "id": "beba997f",
   "metadata": {},
   "outputs": [
    {
     "name": "stderr",
     "output_type": "stream",
     "text": [
      "WARNING: All log messages before absl::InitializeLog() is called are written to STDERR\n",
      "E0000 00:00:1759185200.867311   18296 alts_credentials.cc:93] ALTS creds ignored. Not running on GCP and untrusted ALTS is not enabled.\n"
     ]
    }
   ],
   "source": [
    "project_name = 'bigquery-public-data'\n",
    "dataset_name = 'san_francisco_311'\n",
    "table_name = '311_service_requests'  \n",
    "\n",
    "# Connect to a table and loads its schema and other metadata\n",
    "sf_table = Table(\n",
    "        table_name,\n",
    "        MetaData(), # added empty MetaData object\n",
    "        autoload_with=engine,\n",
    "        schema=f\"{project_name}.{dataset_name}\")\n"
   ]
  },
  {
   "cell_type": "code",
   "execution_count": 4,
   "id": "426457c7",
   "metadata": {},
   "outputs": [
    {
     "data": {
      "text/plain": [
       "Table('311_service_requests', MetaData(), Column('unique_key', Integer(), table=<311_service_requests>), Column('created_date', TIMESTAMP(), table=<311_service_requests>), Column('closed_date', TIMESTAMP(), table=<311_service_requests>), Column('resolution_action_updated_date', TIMESTAMP(), table=<311_service_requests>), Column('status', String(), table=<311_service_requests>), Column('status_notes', String(), table=<311_service_requests>), Column('agency_name', String(), table=<311_service_requests>), Column('category', String(), table=<311_service_requests>), Column('complaint_type', String(), table=<311_service_requests>), Column('descriptor', String(), table=<311_service_requests>), Column('incident_address', String(), table=<311_service_requests>), Column('supervisor_district', Integer(), table=<311_service_requests>), Column('neighborhood', String(), table=<311_service_requests>), Column('location', String(), table=<311_service_requests>), Column('source', String(), table=<311_service_requests>), Column('media_url', String(), table=<311_service_requests>), Column('latitude', Float(), table=<311_service_requests>), Column('longitude', Float(), table=<311_service_requests>), Column('police_district', String(), table=<311_service_requests>), schema='bigquery-public-data.san_francisco_311')"
      ]
     },
     "execution_count": 4,
     "metadata": {},
     "output_type": "execute_result"
    }
   ],
   "source": [
    "sf_table"
   ]
  },
  {
   "cell_type": "code",
   "execution_count": 5,
   "id": "2e9038bf",
   "metadata": {},
   "outputs": [],
   "source": [
    "query = select(sf_table.c.unique_key, sf_table.c.category, sf_table.c.created_date)\\\n",
    "        .where(and_(sf_table.c.status == \"Open\", sf_table.c.complaint_type.contains(\"garbage\")))\\\n",
    "        .order_by(sf_table.c.created_date.desc())\\\n",
    "        .limit(10)\n",
    "\n",
    "\n",
    "# query"
   ]
  },
  {
   "cell_type": "code",
   "execution_count": 6,
   "id": "fb91b597",
   "metadata": {},
   "outputs": [
    {
     "name": "stdout",
     "output_type": "stream",
     "text": [
      "\n",
      "Query results:\n",
      "(101002686986, 'Street and Sidewalk Cleaning', datetime.datetime(2025, 9, 27, 12, 59, 41, tzinfo=datetime.timezone.utc))\n",
      "(101002686977, 'Street and Sidewalk Cleaning', datetime.datetime(2025, 9, 27, 12, 58, 52, tzinfo=datetime.timezone.utc))\n",
      "(101002686979, 'Street and Sidewalk Cleaning', datetime.datetime(2025, 9, 27, 12, 58, 50, tzinfo=datetime.timezone.utc))\n",
      "(101002686956, 'Street and Sidewalk Cleaning', datetime.datetime(2025, 9, 27, 12, 54, 48, tzinfo=datetime.timezone.utc))\n",
      "(101002686951, 'Street and Sidewalk Cleaning', datetime.datetime(2025, 9, 27, 12, 53, 54, tzinfo=datetime.timezone.utc))\n",
      "(101002686948, 'Street and Sidewalk Cleaning', datetime.datetime(2025, 9, 27, 12, 53, 17, tzinfo=datetime.timezone.utc))\n",
      "(101002686946, 'Street and Sidewalk Cleaning', datetime.datetime(2025, 9, 27, 12, 52, 47, tzinfo=datetime.timezone.utc))\n",
      "(101002686943, 'Street and Sidewalk Cleaning', datetime.datetime(2025, 9, 27, 12, 51, 55, tzinfo=datetime.timezone.utc))\n",
      "(101002686942, 'Street and Sidewalk Cleaning', datetime.datetime(2025, 9, 27, 12, 51, 47, tzinfo=datetime.timezone.utc))\n",
      "(101002686933, 'Street and Sidewalk Cleaning', datetime.datetime(2025, 9, 27, 12, 49, 47, tzinfo=datetime.timezone.utc))\n"
     ]
    }
   ],
   "source": [
    "with engine.connect() as connection:\n",
    "    print(\"\\nQuery results:\")\n",
    "    result = connection.execute(query)\n",
    "    for row in result:\n",
    "        print(row)\n",
    "    connection.commit() # only needed for INSERT, UPDATE, DELETE"
   ]
  },
  {
   "cell_type": "code",
   "execution_count": null,
   "id": "cd3e9578",
   "metadata": {},
   "outputs": [],
   "source": [
    "\n"
   ]
  },
  {
   "cell_type": "code",
   "execution_count": null,
   "id": "94f64885",
   "metadata": {},
   "outputs": [],
   "source": []
  }
 ],
 "metadata": {
  "kernelspec": {
   "display_name": "msds692",
   "language": "python",
   "name": "python3"
  },
  "language_info": {
   "codemirror_mode": {
    "name": "ipython",
    "version": 3
   },
   "file_extension": ".py",
   "mimetype": "text/x-python",
   "name": "python",
   "nbconvert_exporter": "python",
   "pygments_lexer": "ipython3",
   "version": "3.13.5"
  }
 },
 "nbformat": 4,
 "nbformat_minor": 5
}
