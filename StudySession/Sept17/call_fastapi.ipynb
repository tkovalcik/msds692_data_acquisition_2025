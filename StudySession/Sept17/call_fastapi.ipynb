{
 "cells": [
  {
   "cell_type": "code",
   "execution_count": 30,
   "id": "6f8bd149",
   "metadata": {},
   "outputs": [],
   "source": [
    "import requests\n",
    "import json\n",
    "\n",
    "input = {\"name\": \"Ari\"}\n",
    "response = requests.get(\"http://127.0.0.1:8000/add_student\",\n",
    "                         data=json.dumps(input)) # data=strings"
   ]
  },
  {
   "cell_type": "code",
   "execution_count": 28,
   "id": "74b43d03",
   "metadata": {},
   "outputs": [
    {
     "data": {
      "text/plain": [
       "str"
      ]
     },
     "execution_count": 28,
     "metadata": {},
     "output_type": "execute_result"
    }
   ],
   "source": [
    "type(json.dumps(input))"
   ]
  },
  {
   "cell_type": "code",
   "execution_count": null,
   "id": "13ea6c0c",
   "metadata": {},
   "outputs": [],
   "source": [
    "response = requests.post(\"http://127.0.0.1:8000/add_student\", json=input)\n",
    "# json = dict"
   ]
  },
  {
   "cell_type": "code",
   "execution_count": 32,
   "id": "6e9ad044",
   "metadata": {},
   "outputs": [
    {
     "data": {
      "text/plain": [
       "b'{\"detail\":\"Method Not Allowed\"}'"
      ]
     },
     "execution_count": 32,
     "metadata": {},
     "output_type": "execute_result"
    }
   ],
   "source": [
    "response.content"
   ]
  },
  {
   "cell_type": "code",
   "execution_count": 23,
   "id": "dec92a9b",
   "metadata": {},
   "outputs": [
    {
     "data": {
      "text/plain": [
       "{'added': {'name': 'Ari', 'age': None, 'school': 'USF'}}"
      ]
     },
     "execution_count": 23,
     "metadata": {},
     "output_type": "execute_result"
    }
   ],
   "source": [
    "response.json()"
   ]
  },
  {
   "cell_type": "code",
   "execution_count": 45,
   "id": "b3f2a5de",
   "metadata": {},
   "outputs": [],
   "source": [
    "import requests\n",
    "import json\n",
    "\n",
    "input = {\"name\": \"Marjan\"}\n",
    "response = requests.post(\"http://127.0.0.1:8000/add_student\", data=json.dumps(input))"
   ]
  },
  {
   "cell_type": "code",
   "execution_count": 46,
   "id": "4db79378",
   "metadata": {},
   "outputs": [
    {
     "data": {
      "text/plain": [
       "{'output': 'Bye', 'key': 'Marjan'}"
      ]
     },
     "execution_count": 46,
     "metadata": {},
     "output_type": "execute_result"
    }
   ],
   "source": [
    "response.json()"
   ]
  },
  {
   "cell_type": "code",
   "execution_count": null,
   "id": "cdda5716",
   "metadata": {},
   "outputs": [],
   "source": []
  }
 ],
 "metadata": {
  "kernelspec": {
   "display_name": "msds692",
   "language": "python",
   "name": "python3"
  },
  "language_info": {
   "codemirror_mode": {
    "name": "ipython",
    "version": 3
   },
   "file_extension": ".py",
   "mimetype": "text/x-python",
   "name": "python",
   "nbconvert_exporter": "python",
   "pygments_lexer": "ipython3",
   "version": "3.13.5"
  }
 },
 "nbformat": 4,
 "nbformat_minor": 5
}
