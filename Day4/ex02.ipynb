{
 "cells": [
  {
   "cell_type": "markdown",
   "id": "132eeed5",
   "metadata": {},
   "source": [
    "Retreive 20 records including the last 4 columns from the GCS's file generated from ex01.ipynb\n",
    "Using \"gemini-2.5-flash\", ask it to summarize the reports.\n",
    "\n",
    "- Pre-requisite : Generate API keys through [Google AI Studio](https://aistudio.google.com/app/apikey)"
   ]
  },
  {
   "cell_type": "code",
   "execution_count": 1,
   "id": "d1068095",
   "metadata": {},
   "outputs": [],
   "source": [
    "import json\n",
    "import os\n",
    "\n",
    "from dotenv import load_dotenv\n",
    "from google import genai\n",
    "from google.oauth2 import service_account\n",
    "from google.cloud import storage"
   ]
  },
  {
   "cell_type": "code",
   "execution_count": 2,
   "id": "45a6bf8d",
   "metadata": {},
   "outputs": [
    {
     "data": {
      "text/plain": [
       "True"
      ]
     },
     "execution_count": 2,
     "metadata": {},
     "output_type": "execute_result"
    }
   ],
   "source": [
    "load_dotenv(dotenv_path='../.env')"
   ]
  },
  {
   "cell_type": "code",
   "execution_count": 3,
   "id": "3a13d0fa",
   "metadata": {},
   "outputs": [],
   "source": [
    "genai_api_key = os.getenv(\"GCP_GENAI_API_KEY\")\n",
    "service_account_key = os.getenv(\"GCP_SERVICE_ACCOUNT_KEY\")\n",
    "project_id = os.getenv(\"GCP_PROJECT_ID\")\n",
    "bucket_name = os.getenv(\"GCP_BUCKET_NAME\")\n",
    "file_name = f\"sf_police_report/2025-09-01.json\""
   ]
  },
  {
   "cell_type": "code",
   "execution_count": 4,
   "id": "5abe6c3d",
   "metadata": {},
   "outputs": [],
   "source": [
    "def retrieve_data_from_gcs(service_account_key: str,\n",
    "                           project_id: str,\n",
    "                           bucket_name: str,\n",
    "                           file_name: str,\n",
    "                           key_list: list\n",
    "                           ) -> list:\n",
    "    credentials = service_account.Credentials.from_service_account_file(service_account_key)\n",
    "    client = storage.Client(project=project_id,\n",
    "                            credentials=credentials)\n",
    "    bucket = client.bucket(bucket_name)\n",
    "    file = bucket.blob(file_name)\n",
    "    content = json.loads(file.download_as_string())\n",
    "\n",
    "    output = []\n",
    "    for data in content:\n",
    "        row = []\n",
    "        \n",
    "        for key in key_list:\n",
    "            row.append(data.get(key, None))\n",
    "        output.append(row)\n",
    "    return output"
   ]
  },
  {
   "cell_type": "code",
   "execution_count": 5,
   "id": "f0465630",
   "metadata": {},
   "outputs": [],
   "source": [
    "key_list = ['incident_datetime', 'report_datetime', 'incident_code',\n",
    "            'incident_category', 'incident_description', 'latitude',\n",
    "            'longitude', 'police_district']\n",
    "data = retrieve_data_from_gcs(service_account_key, \n",
    "                              project_id,\n",
    "                              bucket_name,\n",
    "                              file_name,\n",
    "                              key_list)"
   ]
  },
  {
   "cell_type": "code",
   "execution_count": 6,
   "id": "45059b57",
   "metadata": {},
   "outputs": [],
   "source": [
    "filtered_data = [row[-4:] for row in data][:20]"
   ]
  },
  {
   "cell_type": "code",
   "execution_count": 7,
   "id": "eba47b22",
   "metadata": {},
   "outputs": [],
   "source": [
    "# The client gets the API key from the environment variable `GEMINI_API_KEY`.\n",
    "client = genai.Client(api_key=os.getenv(\"GEMINI_API_KEY\"))"
   ]
  },
  {
   "cell_type": "code",
   "execution_count": 8,
   "id": "1aa313b9",
   "metadata": {},
   "outputs": [],
   "source": [
    "model_name = \"gemini-2.5-flash\""
   ]
  },
  {
   "cell_type": "code",
   "execution_count": 9,
   "id": "3a59cb15",
   "metadata": {},
   "outputs": [],
   "source": [
    "prompt_content = f\"There has been a police report\\\n",
    "on the following list of [description, lon, lat, district] : {filtered_data} recently.\\\n",
    "Summarize the reports\""
   ]
  },
  {
   "cell_type": "code",
   "execution_count": 10,
   "id": "657e8eca",
   "metadata": {},
   "outputs": [],
   "source": [
    "response = client.models.generate_content(\n",
    "    model=model_name,\n",
    "    contents=prompt_content\n",
    ")"
   ]
  },
  {
   "cell_type": "code",
   "execution_count": 11,
   "id": "0ce65a55",
   "metadata": {},
   "outputs": [
    {
     "data": {
      "text/plain": [
       "'A total of **20 police reports** were filed, covering a variety of incidents across multiple districts.\\n\\nHere\\'s a summary of the key findings:\\n\\n1.  **Vehicle-Related Crimes (8 incidents):**\\n    *   **Theft from Vehicles** is a significant category, with **4 reports** of \"Theft, From Locked Vehicle, >$950\" (Northern, Southern x2, Park) and **1 report** of \"Theft, From Unlocked Vehicle, >$950\" (Southern).\\n    *   **Vehicle Theft/Recovery:** One \"Vehicle, Stolen, Other Vehicle\" (Park) and one \"Vehicle, Recovered, Auto\" (Out of SF) were reported.\\n    *   **Other:** One \"Arson of Vehicle\" (Tenderloin) and one \"Evading a Police Officer Recklessly\" (Southern) also occurred.\\n\\n2.  **Assault, Threats, and Disorderly Conduct (6 incidents):**\\n    *   Reports include \"Battery\" (Park), \"False Personation\" (Park), \"Malicious Mischief, Vandalism to Property\" (Taraval), \"Resisting, Delaying, or Obstructing Peace Officer Duties\" (Mission), \"Terrorist Threats\" (Central), and \"Phone Calls, Harassing\" (Southern).\\n\\n3.  **Other Notable Incidents (6 incidents):**\\n    *   **Lost Property:** Two reports (Park, Tenderloin).\\n    *   **Drug Offense:** One \"Methamphetamine Offense\" (Tenderloin).\\n    *   **Warrant Arrest:** One \"Warrant Arrest, Enroute To Adult Authority\" (Tenderloin).\\n    *   **Miscellaneous:** One \"Miscellaneous Investigation\" (Taraval) and one \"Suspicious Occurrence\" (Southern).\\n\\n**Districts with Most Activity:**\\n\\n*   **Park District:** Saw **5 reports**, including Battery, False Personation, Lost Property, Stolen Vehicle, and Theft from a Locked Vehicle.\\n*   **Southern District:** Also had **5 reports**, covering Theft from Unlocked/Locked Vehicles, Evading, Suspicious Occurrence, and Harassing Phone Calls.\\n*   **Tenderloin District:** Reported **4 incidents**, including Lost Property, Arson of Vehicle, Warrant Arrest, and a Methamphetamine Offense.\\n\\n**Missing Location Data:**\\nThree reports (\"Vehicle, Recovered, Auto\", \"Theft, From Unlocked Vehicle, >$950\", \"Lost Property\") did not include specific longitude and latitude coordinates.'"
      ]
     },
     "execution_count": 11,
     "metadata": {},
     "output_type": "execute_result"
    }
   ],
   "source": [
    "response.text"
   ]
  },
  {
   "cell_type": "code",
   "execution_count": null,
   "id": "c341815f",
   "metadata": {},
   "outputs": [],
   "source": []
  }
 ],
 "metadata": {
  "kernelspec": {
   "display_name": "msds692",
   "language": "python",
   "name": "python3"
  },
  "language_info": {
   "codemirror_mode": {
    "name": "ipython",
    "version": 3
   },
   "file_extension": ".py",
   "mimetype": "text/x-python",
   "name": "python",
   "nbconvert_exporter": "python",
   "pygments_lexer": "ipython3",
   "version": "3.13.5"
  }
 },
 "nbformat": 4,
 "nbformat_minor": 5
}
