{
 "cells": [
  {
   "cell_type": "markdown",
   "id": "132eeed5",
   "metadata": {},
   "source": [
    "Retreive 20 records including the last 4 columns from the GCS's file generated from ex01.ipynb\n",
    "Using \"gemini-2.5-flash\", ask it to summarize the reports.\n",
    "\n",
    "- Pre-requisite : Generate API keys through [Google AI Studio](https://aistudio.google.com/app/apikey)"
   ]
  },
  {
   "cell_type": "code",
   "execution_count": 6,
   "id": "d1068095",
   "metadata": {},
   "outputs": [],
   "source": [
    "import json\n",
    "import os\n",
    "\n",
    "from dotenv import load_dotenv\n",
    "from google import genai\n",
    "from google.oauth2 import service_account\n",
    "from google.cloud import storage"
   ]
  },
  {
   "cell_type": "code",
   "execution_count": 7,
   "id": "45a6bf8d",
   "metadata": {},
   "outputs": [
    {
     "data": {
      "text/plain": [
       "False"
      ]
     },
     "execution_count": 7,
     "metadata": {},
     "output_type": "execute_result"
    }
   ],
   "source": [
    "load_dotenv(dotenv_path='../.env')"
   ]
  },
  {
   "cell_type": "code",
   "execution_count": 8,
   "id": "3a13d0fa",
   "metadata": {},
   "outputs": [],
   "source": [
    "genai_api_key = os.getenv(\"GCP_GENAI_API_KEY\")\n",
    "service_account_key = os.getenv(\"GCP_SERVICE_ACCOUNT_KEY\")\n",
    "project_id = os.getenv(\"GCP_PROJECT_ID\")\n",
    "bucket_name = os.getenv(\"GCP_BUCKET_NAME\")\n",
    "file_name = f\"sf_police_report/2025-09-08.json\""
   ]
  },
  {
   "cell_type": "code",
   "execution_count": 9,
   "id": "5abe6c3d",
   "metadata": {},
   "outputs": [],
   "source": [
    "def retrieve_data_from_gcs(service_account_key: str,\n",
    "                           project_id: str,\n",
    "                           bucket_name: str,\n",
    "                           file_name: str,\n",
    "                           key_list: list\n",
    "                           ) -> list:\n",
    "    credentials = service_account.Credentials.from_service_account_file(service_account_key)\n",
    "    client = storage.Client(project=project_id,\n",
    "                            credentials=credentials)\n",
    "    bucket = client.bucket(bucket_name)\n",
    "    file = bucket.blob(file_name)\n",
    "    content = json.loads(file.download_as_string())\n",
    "\n",
    "    output = []\n",
    "    for data in content:\n",
    "        row = []\n",
    "        \n",
    "        for key in key_list:\n",
    "            row.append(data.get(key, None))\n",
    "        output.append(row)\n",
    "    return output"
   ]
  },
  {
   "cell_type": "code",
   "execution_count": 10,
   "id": "f0465630",
   "metadata": {},
   "outputs": [],
   "source": [
    "key_list = ['incident_datetime', 'report_datetime', 'incident_code',\n",
    "            'incident_category', 'incident_description', 'latitude',\n",
    "            'longitude', 'police_district']\n",
    "data = retrieve_data_from_gcs(service_account_key, \n",
    "                              project_id,\n",
    "                              bucket_name,\n",
    "                              file_name,\n",
    "                              key_list)"
   ]
  },
  {
   "cell_type": "code",
   "execution_count": 11,
   "id": "45059b57",
   "metadata": {},
   "outputs": [],
   "source": [
    "filtered_data = [row[-4:] for row in data][:20]"
   ]
  },
  {
   "cell_type": "code",
   "execution_count": 12,
   "id": "eba47b22",
   "metadata": {},
   "outputs": [
    {
     "ename": "ValueError",
     "evalue": "Missing key inputs argument! To use the Google AI API, provide (`api_key`) arguments. To use the Google Cloud API, provide (`vertexai`, `project` & `location`) arguments.",
     "output_type": "error",
     "traceback": [
      "\u001b[31m---------------------------------------------------------------------------\u001b[39m",
      "\u001b[31mValueError\u001b[39m                                Traceback (most recent call last)",
      "\u001b[36mCell\u001b[39m\u001b[36m \u001b[39m\u001b[32mIn[12]\u001b[39m\u001b[32m, line 2\u001b[39m\n\u001b[32m      1\u001b[39m \u001b[38;5;66;03m# The client gets the API key from the environment variable `GEMINI_API_KEY`.\u001b[39;00m\n\u001b[32m----> \u001b[39m\u001b[32m2\u001b[39m client = \u001b[43mgenai\u001b[49m\u001b[43m.\u001b[49m\u001b[43mClient\u001b[49m\u001b[43m(\u001b[49m\u001b[43mapi_key\u001b[49m\u001b[43m=\u001b[49m\u001b[43mos\u001b[49m\u001b[43m.\u001b[49m\u001b[43mgetenv\u001b[49m\u001b[43m(\u001b[49m\u001b[33;43m\"\u001b[39;49m\u001b[33;43mGEMINI_API_KEY\u001b[39;49m\u001b[33;43m\"\u001b[39;49m\u001b[43m)\u001b[49m\u001b[43m)\u001b[49m\n",
      "\u001b[36mFile \u001b[39m\u001b[32m/opt/anaconda3/envs/msds692/lib/python3.13/site-packages/google/genai/client.py:219\u001b[39m, in \u001b[36mClient.__init__\u001b[39m\u001b[34m(self, vertexai, api_key, credentials, project, location, debug_config, http_options)\u001b[39m\n\u001b[32m    216\u001b[39m   \u001b[38;5;28;01melse\u001b[39;00m:\n\u001b[32m    217\u001b[39m     http_options = HttpOptions(base_url=base_url)\n\u001b[32m--> \u001b[39m\u001b[32m219\u001b[39m \u001b[38;5;28mself\u001b[39m._api_client = \u001b[38;5;28;43mself\u001b[39;49m\u001b[43m.\u001b[49m\u001b[43m_get_api_client\u001b[49m\u001b[43m(\u001b[49m\n\u001b[32m    220\u001b[39m \u001b[43m    \u001b[49m\u001b[43mvertexai\u001b[49m\u001b[43m=\u001b[49m\u001b[43mvertexai\u001b[49m\u001b[43m,\u001b[49m\n\u001b[32m    221\u001b[39m \u001b[43m    \u001b[49m\u001b[43mapi_key\u001b[49m\u001b[43m=\u001b[49m\u001b[43mapi_key\u001b[49m\u001b[43m,\u001b[49m\n\u001b[32m    222\u001b[39m \u001b[43m    \u001b[49m\u001b[43mcredentials\u001b[49m\u001b[43m=\u001b[49m\u001b[43mcredentials\u001b[49m\u001b[43m,\u001b[49m\n\u001b[32m    223\u001b[39m \u001b[43m    \u001b[49m\u001b[43mproject\u001b[49m\u001b[43m=\u001b[49m\u001b[43mproject\u001b[49m\u001b[43m,\u001b[49m\n\u001b[32m    224\u001b[39m \u001b[43m    \u001b[49m\u001b[43mlocation\u001b[49m\u001b[43m=\u001b[49m\u001b[43mlocation\u001b[49m\u001b[43m,\u001b[49m\n\u001b[32m    225\u001b[39m \u001b[43m    \u001b[49m\u001b[43mdebug_config\u001b[49m\u001b[43m=\u001b[49m\u001b[38;5;28;43mself\u001b[39;49m\u001b[43m.\u001b[49m\u001b[43m_debug_config\u001b[49m\u001b[43m,\u001b[49m\n\u001b[32m    226\u001b[39m \u001b[43m    \u001b[49m\u001b[43mhttp_options\u001b[49m\u001b[43m=\u001b[49m\u001b[43mhttp_options\u001b[49m\u001b[43m,\u001b[49m\n\u001b[32m    227\u001b[39m \u001b[43m\u001b[49m\u001b[43m)\u001b[49m\n\u001b[32m    229\u001b[39m \u001b[38;5;28mself\u001b[39m._aio = AsyncClient(\u001b[38;5;28mself\u001b[39m._api_client)\n\u001b[32m    230\u001b[39m \u001b[38;5;28mself\u001b[39m._models = Models(\u001b[38;5;28mself\u001b[39m._api_client)\n",
      "\u001b[36mFile \u001b[39m\u001b[32m/opt/anaconda3/envs/msds692/lib/python3.13/site-packages/google/genai/client.py:265\u001b[39m, in \u001b[36mClient._get_api_client\u001b[39m\u001b[34m(vertexai, api_key, credentials, project, location, debug_config, http_options)\u001b[39m\n\u001b[32m    248\u001b[39m \u001b[38;5;28;01mif\u001b[39;00m debug_config \u001b[38;5;129;01mand\u001b[39;00m debug_config.client_mode \u001b[38;5;129;01min\u001b[39;00m [\n\u001b[32m    249\u001b[39m     \u001b[33m'\u001b[39m\u001b[33mrecord\u001b[39m\u001b[33m'\u001b[39m,\n\u001b[32m    250\u001b[39m     \u001b[33m'\u001b[39m\u001b[33mreplay\u001b[39m\u001b[33m'\u001b[39m,\n\u001b[32m    251\u001b[39m     \u001b[33m'\u001b[39m\u001b[33mauto\u001b[39m\u001b[33m'\u001b[39m,\n\u001b[32m    252\u001b[39m ]:\n\u001b[32m    253\u001b[39m   \u001b[38;5;28;01mreturn\u001b[39;00m ReplayApiClient(\n\u001b[32m    254\u001b[39m       mode=debug_config.client_mode,  \u001b[38;5;66;03m# type: ignore[arg-type]\u001b[39;00m\n\u001b[32m    255\u001b[39m       replay_id=debug_config.replay_id,  \u001b[38;5;66;03m# type: ignore[arg-type]\u001b[39;00m\n\u001b[32m   (...)\u001b[39m\u001b[32m    262\u001b[39m       http_options=http_options,\n\u001b[32m    263\u001b[39m   )\n\u001b[32m--> \u001b[39m\u001b[32m265\u001b[39m \u001b[38;5;28;01mreturn\u001b[39;00m \u001b[43mBaseApiClient\u001b[49m\u001b[43m(\u001b[49m\n\u001b[32m    266\u001b[39m \u001b[43m    \u001b[49m\u001b[43mvertexai\u001b[49m\u001b[43m=\u001b[49m\u001b[43mvertexai\u001b[49m\u001b[43m,\u001b[49m\n\u001b[32m    267\u001b[39m \u001b[43m    \u001b[49m\u001b[43mapi_key\u001b[49m\u001b[43m=\u001b[49m\u001b[43mapi_key\u001b[49m\u001b[43m,\u001b[49m\n\u001b[32m    268\u001b[39m \u001b[43m    \u001b[49m\u001b[43mcredentials\u001b[49m\u001b[43m=\u001b[49m\u001b[43mcredentials\u001b[49m\u001b[43m,\u001b[49m\n\u001b[32m    269\u001b[39m \u001b[43m    \u001b[49m\u001b[43mproject\u001b[49m\u001b[43m=\u001b[49m\u001b[43mproject\u001b[49m\u001b[43m,\u001b[49m\n\u001b[32m    270\u001b[39m \u001b[43m    \u001b[49m\u001b[43mlocation\u001b[49m\u001b[43m=\u001b[49m\u001b[43mlocation\u001b[49m\u001b[43m,\u001b[49m\n\u001b[32m    271\u001b[39m \u001b[43m    \u001b[49m\u001b[43mhttp_options\u001b[49m\u001b[43m=\u001b[49m\u001b[43mhttp_options\u001b[49m\u001b[43m,\u001b[49m\n\u001b[32m    272\u001b[39m \u001b[43m\u001b[49m\u001b[43m)\u001b[49m\n",
      "\u001b[36mFile \u001b[39m\u001b[32m/opt/anaconda3/envs/msds692/lib/python3.13/site-packages/google/genai/_api_client.py:658\u001b[39m, in \u001b[36mBaseApiClient.__init__\u001b[39m\u001b[34m(self, vertexai, api_key, credentials, project, location, http_options)\u001b[39m\n\u001b[32m    656\u001b[39m \u001b[38;5;28;01melse\u001b[39;00m:  \u001b[38;5;66;03m# Implicit initialization or missing arguments.\u001b[39;00m\n\u001b[32m    657\u001b[39m   \u001b[38;5;28;01mif\u001b[39;00m \u001b[38;5;129;01mnot\u001b[39;00m \u001b[38;5;28mself\u001b[39m.api_key:\n\u001b[32m--> \u001b[39m\u001b[32m658\u001b[39m     \u001b[38;5;28;01mraise\u001b[39;00m \u001b[38;5;167;01mValueError\u001b[39;00m(\n\u001b[32m    659\u001b[39m         \u001b[33m'\u001b[39m\u001b[33mMissing key inputs argument! To use the Google AI API,\u001b[39m\u001b[33m'\u001b[39m\n\u001b[32m    660\u001b[39m         \u001b[33m'\u001b[39m\u001b[33m provide (`api_key`) arguments. To use the Google Cloud API,\u001b[39m\u001b[33m'\u001b[39m\n\u001b[32m    661\u001b[39m         \u001b[33m'\u001b[39m\u001b[33m provide (`vertexai`, `project` & `location`) arguments.\u001b[39m\u001b[33m'\u001b[39m\n\u001b[32m    662\u001b[39m     )\n\u001b[32m    663\u001b[39m   \u001b[38;5;28mself\u001b[39m._http_options.base_url = \u001b[33m'\u001b[39m\u001b[33mhttps://generativelanguage.googleapis.com/\u001b[39m\u001b[33m'\u001b[39m\n\u001b[32m    664\u001b[39m   \u001b[38;5;28mself\u001b[39m._http_options.api_version = \u001b[33m'\u001b[39m\u001b[33mv1beta\u001b[39m\u001b[33m'\u001b[39m\n",
      "\u001b[31mValueError\u001b[39m: Missing key inputs argument! To use the Google AI API, provide (`api_key`) arguments. To use the Google Cloud API, provide (`vertexai`, `project` & `location`) arguments."
     ]
    }
   ],
   "source": [
    "# The client gets the API key from the environment variable `GEMINI_API_KEY`.\n",
    "client = genai.Client(api_key=os.getenv(\"GEMINI_API_KEY\"))"
   ]
  },
  {
   "cell_type": "code",
   "execution_count": null,
   "id": "1aa313b9",
   "metadata": {},
   "outputs": [],
   "source": [
    "model_name = \"gemini-2.5-flash\""
   ]
  },
  {
   "cell_type": "code",
   "execution_count": null,
   "id": "3a59cb15",
   "metadata": {},
   "outputs": [],
   "source": [
    "prompt_content = f\"There has been a police report\\\n",
    "on the following list of [description, lon, lat, district] : {filtered_data} recently.\\\n",
    "Summarize the reports\""
   ]
  },
  {
   "cell_type": "code",
   "execution_count": null,
   "id": "657e8eca",
   "metadata": {},
   "outputs": [],
   "source": [
    "response = client.models.generate_content(\n",
    "    model=model_name,\n",
    "    contents=prompt_content\n",
    ")"
   ]
  },
  {
   "cell_type": "code",
   "execution_count": null,
   "id": "0ce65a55",
   "metadata": {},
   "outputs": [
    {
     "data": {
      "text/plain": [
       "'A total of **20 police reports** were filed, covering a variety of incidents across multiple districts.\\n\\nHere\\'s a summary of the key findings:\\n\\n1.  **Vehicle-Related Crimes (8 incidents):**\\n    *   **Theft from Vehicles** is a significant category, with **4 reports** of \"Theft, From Locked Vehicle, >$950\" (Northern, Southern x2, Park) and **1 report** of \"Theft, From Unlocked Vehicle, >$950\" (Southern).\\n    *   **Vehicle Theft/Recovery:** One \"Vehicle, Stolen, Other Vehicle\" (Park) and one \"Vehicle, Recovered, Auto\" (Out of SF) were reported.\\n    *   **Other:** One \"Arson of Vehicle\" (Tenderloin) and one \"Evading a Police Officer Recklessly\" (Southern) also occurred.\\n\\n2.  **Assault, Threats, and Disorderly Conduct (6 incidents):**\\n    *   Reports include \"Battery\" (Park), \"False Personation\" (Park), \"Malicious Mischief, Vandalism to Property\" (Taraval), \"Resisting, Delaying, or Obstructing Peace Officer Duties\" (Mission), \"Terrorist Threats\" (Central), and \"Phone Calls, Harassing\" (Southern).\\n\\n3.  **Other Notable Incidents (6 incidents):**\\n    *   **Lost Property:** Two reports (Park, Tenderloin).\\n    *   **Drug Offense:** One \"Methamphetamine Offense\" (Tenderloin).\\n    *   **Warrant Arrest:** One \"Warrant Arrest, Enroute To Adult Authority\" (Tenderloin).\\n    *   **Miscellaneous:** One \"Miscellaneous Investigation\" (Taraval) and one \"Suspicious Occurrence\" (Southern).\\n\\n**Districts with Most Activity:**\\n\\n*   **Park District:** Saw **5 reports**, including Battery, False Personation, Lost Property, Stolen Vehicle, and Theft from a Locked Vehicle.\\n*   **Southern District:** Also had **5 reports**, covering Theft from Unlocked/Locked Vehicles, Evading, Suspicious Occurrence, and Harassing Phone Calls.\\n*   **Tenderloin District:** Reported **4 incidents**, including Lost Property, Arson of Vehicle, Warrant Arrest, and a Methamphetamine Offense.\\n\\n**Missing Location Data:**\\nThree reports (\"Vehicle, Recovered, Auto\", \"Theft, From Unlocked Vehicle, >$950\", \"Lost Property\") did not include specific longitude and latitude coordinates.'"
      ]
     },
     "execution_count": 11,
     "metadata": {},
     "output_type": "execute_result"
    }
   ],
   "source": [
    "response.text"
   ]
  },
  {
   "cell_type": "code",
   "execution_count": null,
   "id": "c341815f",
   "metadata": {},
   "outputs": [],
   "source": []
  }
 ],
 "metadata": {
  "kernelspec": {
   "display_name": "msds692",
   "language": "python",
   "name": "python3"
  },
  "language_info": {
   "codemirror_mode": {
    "name": "ipython",
    "version": 3
   },
   "file_extension": ".py",
   "mimetype": "text/x-python",
   "name": "python",
   "nbconvert_exporter": "python",
   "pygments_lexer": "ipython3",
   "version": "3.13.5"
  }
 },
 "nbformat": 4,
 "nbformat_minor": 5
}
