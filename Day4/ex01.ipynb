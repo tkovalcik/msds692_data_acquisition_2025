{
 "cells": [
  {
   "cell_type": "markdown",
   "id": "abcff18a",
   "metadata": {},
   "source": [
    "Using the DATA_GOV_API_KEY, retrieve data from `https://data.sfgov.org/resource/wg3w-h783`, SF Police Department Report Data.\n",
    "\n",
    "complete store_to_gcs() to store retrieved data to GCS, and retrieve_data_from_gcs() to retrieve data from GCS.\n",
    "- store_to_gcs(service_account_key, project_id, bucket_name, file_name, data) : upload data as file_name on the given gcs.\n",
    "- retrieve_data_from_gcs(service_account_key, project_id, bucket_name, file_name, key_list) : return a list of list which includes values corresponding to keys in key_list.\n",
    "If \n",
    "```\n",
    "key_list = ['incident_datetime', 'report_datetime', 'incident_code',\n",
    "            'incident_category', 'incident_description', 'latitude',\n",
    "            'longitude', 'police_district']\n",
    "```\n",
    "This should return\n",
    "```\n",
    "[['2025-08-26T23:17:00.000',\n",
    "  '2025-08-26T23:17:00.000',\n",
    "  '07041',\n",
    "  'Recovered Vehicle',\n",
    "  'Vehicle, Recovered, Auto',\n",
    "  None,\n",
    "  None,\n",
    "  'Out of SF'],\n",
    " ['2025-08-27T00:37:00.000',\n",
    "  '2025-08-27T00:37:00.000',\n",
    "  '04134',\n",
    "  'Assault',\n",
    "  'Battery',\n",
    "  '37.78041458129883',\n",
    "  '-122.44901275634766',\n",
    "  'Park'],....]\n",
    "```\n",
    "If a key doesn't exist, its value should be `None`"
   ]
  },
  {
   "cell_type": "code",
   "execution_count": 2,
   "id": "58311aac",
   "metadata": {},
   "outputs": [],
   "source": [
    "import datetime\n",
    "import json\n",
    "import os \n",
    "\n",
    "from dotenv import load_dotenv\n",
    "from google.oauth2 import service_account\n",
    "from google.cloud import storage\n",
    "import requests"
   ]
  },
  {
   "cell_type": "code",
   "execution_count": 3,
   "id": "d4beeb07",
   "metadata": {},
   "outputs": [],
   "source": [
    "load_dotenv('../../.env')\n",
    "\n",
    "api_key = os.getenv(\"DATA_GOV_API_KEY\")"
   ]
  },
  {
   "cell_type": "markdown",
   "id": "b776af2c",
   "metadata": {},
   "source": [
    "- Typically authorization in a header uses the format of..\n",
    "```\n",
    "headers = {\"Authorization\": f\"Bearer {api_key}\", \"Content-Type\": \"application/json\"}\n",
    "```\n",
    "However, based on the [documentaiton](https://api.data.gov/docs/developer-manual/), I followed the following format.\n",
    "\n",
    "Also, the data specific meta data and details can be searchable. (Ex.[link](https://data.sfgov.org/Public-Safety/Police-Department-Incident-Reports-2018-to-Present/wg3w-h783/about_data))"
   ]
  },
  {
   "cell_type": "code",
   "execution_count": 4,
   "id": "6e1407e7",
   "metadata": {},
   "outputs": [],
   "source": [
    "url = 'https://data.sfgov.org/resource/wg3w-h783'\n",
    "header = {'X-Api-Key':api_key} \n",
    "\n",
    "response = requests.get(url, headers=header)"
   ]
  },
  {
   "cell_type": "code",
   "execution_count": 5,
   "id": "7be9a22f",
   "metadata": {},
   "outputs": [],
   "source": [
    "data = response.json()"
   ]
  },
  {
   "cell_type": "markdown",
   "id": "b86a1d10",
   "metadata": {},
   "source": [
    "Create store_to_gcs(service_account_key, project_id, bucket_name, file_name, data) which upload data as file_name on the given gcs."
   ]
  },
  {
   "cell_type": "code",
   "execution_count": 6,
   "id": "95acd0d5",
   "metadata": {},
   "outputs": [],
   "source": [
    "def store_to_gcs(service_account_key: str,\n",
    "                 project_id: str,\n",
    "                 bucket_name: str,\n",
    "                 file_name: str,\n",
    "                 data: str) -> None:    \n",
    "    credentials = service_account.Credentials.from_service_account_file(service_account_key)\n",
    "    client = storage.Client(project=project_id,\n",
    "                            credentials=credentials)\n",
    "    bucket = client.bucket(bucket_name)\n",
    "    file = bucket.blob(file_name)\n",
    "    file.upload_from_string(data)"
   ]
  },
  {
   "cell_type": "code",
   "execution_count": 7,
   "id": "dff2cf2b",
   "metadata": {},
   "outputs": [],
   "source": [
    "service_account_key = os.getenv(\"GCP_SERVICE_ACCOUNT_KEY\")\n",
    "project_id = os.getenv(\"GCP_PROJECT_ID\")\n",
    "bucket_name = os.getenv(\"GCP_BUCKET_NAME\")\n",
    "file_name = f\"sf_police_report/{datetime.date.today()}.json\"\n",
    "store_to_gcs(service_account_key,\n",
    "            project_id,\n",
    "            bucket_name,\n",
    "            file_name,\n",
    "            json.dumps(data, indent=4))"
   ]
  },
  {
   "cell_type": "markdown",
   "id": "86b73733",
   "metadata": {},
   "source": [
    "Complete retrieve_data_from_gcs() to return a list of list which includes values corresponding to keys in key_list.\n",
    "If \n",
    "```\n",
    "key_list = ['incident_datetime', 'report_datetime', 'incident_code',\n",
    "            'incident_category', 'incident_description', 'latitude',\n",
    "            'longitude', 'police_district']\n",
    "```\n",
    "This should return\n",
    "```\n",
    "[['2025-08-26T23:17:00.000',\n",
    "  '2025-08-26T23:17:00.000',\n",
    "  '07041',\n",
    "  'Recovered Vehicle',\n",
    "  'Vehicle, Recovered, Auto',\n",
    "  None,\n",
    "  None,\n",
    "  'Out of SF'],\n",
    " ['2025-08-27T00:37:00.000',\n",
    "  '2025-08-27T00:37:00.000',\n",
    "  '04134',\n",
    "  'Assault',\n",
    "  'Battery',\n",
    "  '37.78041458129883',\n",
    "  '-122.44901275634766',\n",
    "  'Park'],....]\n",
    "```\n",
    "If a key doesn't exist, its value should be `None`"
   ]
  },
  {
   "cell_type": "code",
   "execution_count": 8,
   "id": "6e81f1ec",
   "metadata": {},
   "outputs": [],
   "source": [
    "def retrieve_data_from_gcs(service_account_key: str,\n",
    "                           project_id: str,\n",
    "                           bucket_name: str,\n",
    "                           file_name: str,\n",
    "                           key_list: list\n",
    "                           ) -> list:\n",
    "    credentials = service_account.Credentials.from_service_account_file(service_account_key)\n",
    "    client = storage.Client(project=project_id,\n",
    "                            credentials=credentials)\n",
    "    bucket = client.bucket(bucket_name)\n",
    "    file = bucket.blob(file_name)\n",
    "    content = json.loads(file.download_as_string())\n",
    "\n",
    "    output = []\n",
    "    for data in content:\n",
    "        row = []\n",
    "        \n",
    "        for key in key_list:\n",
    "            row.append(data.get(key, None))\n",
    "        output.append(row)\n",
    "    return output"
   ]
  },
  {
   "cell_type": "code",
   "execution_count": 9,
   "id": "c34885d5",
   "metadata": {},
   "outputs": [],
   "source": [
    "key_list = ['incident_datetime', 'report_datetime', 'incident_code',\n",
    "            'incident_category', 'incident_description', 'latitude',\n",
    "            'longitude', 'police_district']\n",
    "data = retrieve_data_from_gcs(service_account_key, \n",
    "                              project_id,\n",
    "                              bucket_name,\n",
    "                              f\"sf_police_report/{datetime.date.today()}.json\",\n",
    "                              key_list)"
   ]
  },
  {
   "cell_type": "code",
   "execution_count": 10,
   "id": "59ee1084",
   "metadata": {},
   "outputs": [
    {
     "data": {
      "text/plain": [
       "[['2025-06-13T12:41:00.000',\n",
       "  '2025-06-13T12:46:00.000',\n",
       "  '04134',\n",
       "  'Assault',\n",
       "  'Battery',\n",
       "  '37.7181282043457',\n",
       "  '-122.41417694091797',\n",
       "  'Ingleside'],\n",
       " ['2025-05-21T00:00:00.000',\n",
       "  '2025-05-21T08:15:00.000',\n",
       "  '06224',\n",
       "  'Larceny Theft',\n",
       "  'Theft, From Unlocked Vehicle, >$950',\n",
       "  None,\n",
       "  None,\n",
       "  'Ingleside'],\n",
       " ['2025-06-11T08:00:00.000',\n",
       "  '2025-06-12T11:27:00.000',\n",
       "  '05043',\n",
       "  'Burglary',\n",
       "  'Burglary, Residence, Unlawful Entry',\n",
       "  '37.77315139770508',\n",
       "  '-122.42222595214844',\n",
       "  'Northern'],\n",
       " ['2025-06-12T00:09:00.000',\n",
       "  '2025-06-12T00:09:00.000',\n",
       "  '03014',\n",
       "  'Robbery',\n",
       "  'Robbery, Street or Public Place, W/ Force',\n",
       "  '37.761837005615234',\n",
       "  '-122.41935729980469',\n",
       "  'Mission'],\n",
       " ['2025-05-23T00:00:00.000',\n",
       "  '2025-06-12T12:24:00.000',\n",
       "  '09027',\n",
       "  'Fraud',\n",
       "  'False Personation',\n",
       "  '37.734825134277344',\n",
       "  '-122.38738250732422',\n",
       "  'Bayview'],\n",
       " ['2025-06-13T02:55:00.000',\n",
       "  '2025-06-13T02:55:00.000',\n",
       "  '07041',\n",
       "  'Recovered Vehicle',\n",
       "  'Vehicle, Recovered, Auto',\n",
       "  None,\n",
       "  None,\n",
       "  'Out of SF']]"
      ]
     },
     "execution_count": 10,
     "metadata": {},
     "output_type": "execute_result"
    }
   ],
   "source": [
    "data[:6]"
   ]
  },
  {
   "cell_type": "code",
   "execution_count": null,
   "id": "2c0d0065",
   "metadata": {},
   "outputs": [],
   "source": []
  }
 ],
 "metadata": {
  "kernelspec": {
   "display_name": "msds692",
   "language": "python",
   "name": "python3"
  },
  "language_info": {
   "codemirror_mode": {
    "name": "ipython",
    "version": 3
   },
   "file_extension": ".py",
   "mimetype": "text/x-python",
   "name": "python",
   "nbconvert_exporter": "python",
   "pygments_lexer": "ipython3",
   "version": "3.13.5"
  }
 },
 "nbformat": 4,
 "nbformat_minor": 5
}
