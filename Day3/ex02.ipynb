{
 "cells": [
  {
   "cell_type": "markdown",
   "id": "12b4825f",
   "metadata": {},
   "source": [
    "Create a pickle object of a list including 100 random integers and store it to `GCP_BUCKET_NAME` on `GCP_PROJECT_ID` as \"ex02.pickle\".\n",
    "The bucket requires an authentification, and you can use a service account key (`GCP_SERVICE_ACCOUNT_KEY`)"
   ]
  },
  {
   "cell_type": "code",
   "execution_count": 3,
   "id": "e78ed29d",
   "metadata": {},
   "outputs": [],
   "source": [
    "import pickle\n",
    "import os\n",
    "import random\n",
    "\n",
    "from dotenv import load_dotenv\n",
    "from google.oauth2 import service_account\n",
    "from google.cloud import storage"
   ]
  },
  {
   "cell_type": "code",
   "execution_count": 14,
   "id": "c467ce47",
   "metadata": {},
   "outputs": [],
   "source": [
    "data = [random.randint(1,1000) for i in range(100)]\n",
    "pickle_str = pickle.dumps(data)\n"
   ]
  },
  {
   "cell_type": "code",
   "execution_count": 16,
   "id": "0fdb39e4",
   "metadata": {},
   "outputs": [
    {
     "data": {
      "text/plain": [
       "[947,\n",
       " 893,\n",
       " 66,\n",
       " 154,\n",
       " 85,\n",
       " 150,\n",
       " 474,\n",
       " 678,\n",
       " 108,\n",
       " 255,\n",
       " 707,\n",
       " 14,\n",
       " 834,\n",
       " 465,\n",
       " 567,\n",
       " 950,\n",
       " 119,\n",
       " 141,\n",
       " 820,\n",
       " 733,\n",
       " 355,\n",
       " 716,\n",
       " 197,\n",
       " 464,\n",
       " 161,\n",
       " 350,\n",
       " 732,\n",
       " 619,\n",
       " 501,\n",
       " 689,\n",
       " 219,\n",
       " 777,\n",
       " 442,\n",
       " 66,\n",
       " 709,\n",
       " 565,\n",
       " 507,\n",
       " 707,\n",
       " 868,\n",
       " 663,\n",
       " 342,\n",
       " 143,\n",
       " 670,\n",
       " 350,\n",
       " 35,\n",
       " 358,\n",
       " 48,\n",
       " 813,\n",
       " 952,\n",
       " 128,\n",
       " 387,\n",
       " 743,\n",
       " 641,\n",
       " 609,\n",
       " 808,\n",
       " 914,\n",
       " 992,\n",
       " 816,\n",
       " 400,\n",
       " 902,\n",
       " 368,\n",
       " 576,\n",
       " 97,\n",
       " 895,\n",
       " 881,\n",
       " 552,\n",
       " 732,\n",
       " 710,\n",
       " 900,\n",
       " 830,\n",
       " 853,\n",
       " 832,\n",
       " 671,\n",
       " 713,\n",
       " 982,\n",
       " 536,\n",
       " 713,\n",
       " 132,\n",
       " 396,\n",
       " 23,\n",
       " 602,\n",
       " 414,\n",
       " 401,\n",
       " 789,\n",
       " 754,\n",
       " 291,\n",
       " 176,\n",
       " 454,\n",
       " 259,\n",
       " 472,\n",
       " 103,\n",
       " 933,\n",
       " 713,\n",
       " 661,\n",
       " 493,\n",
       " 674,\n",
       " 935,\n",
       " 924,\n",
       " 934,\n",
       " 25]"
      ]
     },
     "execution_count": 16,
     "metadata": {},
     "output_type": "execute_result"
    }
   ],
   "source": [
    "data"
   ]
  },
  {
   "cell_type": "code",
   "execution_count": 10,
   "id": "e8874125",
   "metadata": {},
   "outputs": [
    {
     "data": {
      "text/plain": [
       "b'\\x80\\x04\\x95\\x1a\\x01\\x00\\x00\\x00\\x00\\x00\\x00]\\x94(M&\\x02K\\xdbMq\\x01K\\x07MQ\\x02M\\xa4\\x02M\\xdd\\x03M\\xf2\\x02Mn\\x03MV\\x01M\\xe6\\x03K\\x97M\\xa7\\x03K\\xf6Ml\\x01K\\x93Mc\\x03M\\xa2\\x01M?\\x02M*\\x01M\\x90\\x01M:\\x02M7\\x01M\\xff\\x02M\\x02\\x03MF\\x01Mb\\x01M\\xac\\x01MM\\x02K~KjK\\xe8M\\xc1\\x03M\\x80\\x03M\\xe4\\x03K\\xf5M\\x82\\x01MS\\x02MV\\x03M\\xf8\\x01MV\\x03M\\xa1\\x02M\\xc2\\x03M\\x1b\\x01K/MG\\x03KnM\\xb7\\x03KsM\\xb8\\x01M>\\x03M\\xa8\\x02KpM\\xa4\\x03K\\x1cM\\x98\\x01M\\x8f\\x03M\\xf0\\x02K_K]K\\xe4ML\\x02M\\xdc\\x02M1\\x01MK\\x02M\\xf5\\x01MR\\x03K7M\\t\\x03M\\xb6\\x03M\\xa8\\x03M\\xd9\\x01M]\\x02M\\xe6\\x01M\\x00\\x02M\\xe0\\x01M\\x9c\\x02M\\xc6\\x02M\\xd1\\x02K\"M\\xd7\\x02M<\\x02M\\xe6\\x03M@\\x02M\\xc2\\x01K\\x8aM\\xba\\x02M\\xc1\\x02M4\\x02MO\\x02M|\\x01M\\xa6\\x03Mk\\x03M\\xdf\\x01M\\x9e\\x02K\\xdbM;\\x01K\\xf8M\\x1a\\x02K\\x8ee.'"
      ]
     },
     "execution_count": 10,
     "metadata": {},
     "output_type": "execute_result"
    }
   ],
   "source": [
    "pickle_str"
   ]
  },
  {
   "cell_type": "code",
   "execution_count": 8,
   "id": "c6237113",
   "metadata": {},
   "outputs": [],
   "source": [
    "# Load environment variables from .env file\n",
    "load_dotenv()\n",
    "\n",
    "# Access the variables using os.getenv()\n",
    "service_account_key = os.getenv(\"GCP_SERVICE_ACCOUNT_KEY\")\n",
    "project_id = os.getenv(\"GCP_PROJECT_ID\")\n",
    "bucket_name = os.getenv(\"GCP_BUCKET_NAME\")\n",
    "file_name = \"ex02-tk.pickle\""
   ]
  },
  {
   "cell_type": "code",
   "execution_count": 17,
   "id": "68202a38",
   "metadata": {},
   "outputs": [],
   "source": [
    "credentials = service_account.Credentials.from_service_account_file(service_account_key)\n",
    "# Create a client  to bundle configuration needed for API requests.\n",
    "client = storage.Client(project=project_id,\n",
    "                        credentials=credentials)\n",
    "# Access a bucket \n",
    "bucket = client.bucket(bucket_name)\n",
    "# Access an object (blob) in a bucket\n",
    "file = bucket.blob(file_name)\n",
    "# Upload\n",
    "file.upload_from_string(pickle_str)"
   ]
  },
  {
   "cell_type": "code",
   "execution_count": null,
   "id": "6d7878c6",
   "metadata": {},
   "outputs": [],
   "source": []
  }
 ],
 "metadata": {
  "kernelspec": {
   "display_name": "msds692",
   "language": "python",
   "name": "python3"
  },
  "language_info": {
   "codemirror_mode": {
    "name": "ipython",
    "version": 3
   },
   "file_extension": ".py",
   "mimetype": "text/x-python",
   "name": "python",
   "nbconvert_exporter": "python",
   "pygments_lexer": "ipython3",
   "version": "3.13.5"
  }
 },
 "nbformat": 4,
 "nbformat_minor": 5
}
